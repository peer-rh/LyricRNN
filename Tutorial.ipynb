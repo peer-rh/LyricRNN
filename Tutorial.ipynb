{
 "cells": [
  {
   "cell_type": "markdown",
   "metadata": {},
   "source": [
    "# Character based LSTM, for Generating Music Lyrics in Pytorch\n",
    "\n",
    "This is a Tutorial Notebook, on how you can generate Lyrics based on a genre or an artist or anything you like using pytorch. \n",
    "I will go through getting the data and building and training the LSTM Network. \n",
    "\n",
    "Required Installations are Pytorch, matplotlib, numpy, pandas. I recommend you use conda\n",
    "\n",
    "Some Code from: https://github.com/spro/practical-pytorch/blob/master/char-rnn-generation/char-rnn-generation.ipynb"
   ]
  },
  {
   "cell_type": "markdown",
   "metadata": {},
   "source": [
    "## Getting the data\n",
    "You will have to download the file lyrics.csv from https://www.kaggle.com/gyani95/380000-lyrics-from-metrolyrics and put it in folder data\n",
    "\n",
    "Note: if you have done this one, you can probably skip this Step"
   ]
  },
  {
   "cell_type": "code",
   "execution_count": 1,
   "metadata": {
    "collapsed": true
   },
   "outputs": [],
   "source": [
    "# import pandas for loading csv and preprocessing and np for saving for future access\n",
    "import numpy as np\n",
    "import pandas as pd"
   ]
  },
  {
   "cell_type": "code",
   "execution_count": 2,
   "metadata": {},
   "outputs": [
    {
     "data": {
      "text/html": [
       "<div>\n",
       "<style scoped>\n",
       "    .dataframe tbody tr th:only-of-type {\n",
       "        vertical-align: middle;\n",
       "    }\n",
       "\n",
       "    .dataframe tbody tr th {\n",
       "        vertical-align: top;\n",
       "    }\n",
       "\n",
       "    .dataframe thead th {\n",
       "        text-align: right;\n",
       "    }\n",
       "</style>\n",
       "<table border=\"1\" class=\"dataframe\">\n",
       "  <thead>\n",
       "    <tr style=\"text-align: right;\">\n",
       "      <th></th>\n",
       "      <th>index</th>\n",
       "      <th>song</th>\n",
       "      <th>year</th>\n",
       "      <th>artist</th>\n",
       "      <th>genre</th>\n",
       "      <th>lyrics</th>\n",
       "    </tr>\n",
       "  </thead>\n",
       "  <tbody>\n",
       "    <tr>\n",
       "      <th>0</th>\n",
       "      <td>0</td>\n",
       "      <td>ego-remix</td>\n",
       "      <td>2009</td>\n",
       "      <td>beyonce-knowles</td>\n",
       "      <td>Pop</td>\n",
       "      <td>Oh baby, how you doing?\\nYou know I'm gonna cu...</td>\n",
       "    </tr>\n",
       "    <tr>\n",
       "      <th>1</th>\n",
       "      <td>1</td>\n",
       "      <td>then-tell-me</td>\n",
       "      <td>2009</td>\n",
       "      <td>beyonce-knowles</td>\n",
       "      <td>Pop</td>\n",
       "      <td>playin' everything so easy,\\nit's like you see...</td>\n",
       "    </tr>\n",
       "    <tr>\n",
       "      <th>2</th>\n",
       "      <td>2</td>\n",
       "      <td>honesty</td>\n",
       "      <td>2009</td>\n",
       "      <td>beyonce-knowles</td>\n",
       "      <td>Pop</td>\n",
       "      <td>If you search\\nFor tenderness\\nIt isn't hard t...</td>\n",
       "    </tr>\n",
       "    <tr>\n",
       "      <th>3</th>\n",
       "      <td>3</td>\n",
       "      <td>you-are-my-rock</td>\n",
       "      <td>2009</td>\n",
       "      <td>beyonce-knowles</td>\n",
       "      <td>Pop</td>\n",
       "      <td>Oh oh oh I, oh oh oh I\\n[Verse 1:]\\nIf I wrote...</td>\n",
       "    </tr>\n",
       "    <tr>\n",
       "      <th>4</th>\n",
       "      <td>4</td>\n",
       "      <td>black-culture</td>\n",
       "      <td>2009</td>\n",
       "      <td>beyonce-knowles</td>\n",
       "      <td>Pop</td>\n",
       "      <td>Party the people, the people the party it's po...</td>\n",
       "    </tr>\n",
       "  </tbody>\n",
       "</table>\n",
       "</div>"
      ],
      "text/plain": [
       "   index             song  year           artist genre  \\\n",
       "0      0        ego-remix  2009  beyonce-knowles   Pop   \n",
       "1      1     then-tell-me  2009  beyonce-knowles   Pop   \n",
       "2      2          honesty  2009  beyonce-knowles   Pop   \n",
       "3      3  you-are-my-rock  2009  beyonce-knowles   Pop   \n",
       "4      4    black-culture  2009  beyonce-knowles   Pop   \n",
       "\n",
       "                                              lyrics  \n",
       "0  Oh baby, how you doing?\\nYou know I'm gonna cu...  \n",
       "1  playin' everything so easy,\\nit's like you see...  \n",
       "2  If you search\\nFor tenderness\\nIt isn't hard t...  \n",
       "3  Oh oh oh I, oh oh oh I\\n[Verse 1:]\\nIf I wrote...  \n",
       "4  Party the people, the people the party it's po...  "
      ]
     },
     "execution_count": 2,
     "metadata": {},
     "output_type": "execute_result"
    }
   ],
   "source": [
    "data = pd.read_csv(\"data/lyrics.csv\") # Load the csv in a pandas Dataframe, this may take a while\n",
    "data.head()"
   ]
  },
  {
   "cell_type": "code",
   "execution_count": 3,
   "metadata": {},
   "outputs": [
    {
     "data": {
      "text/plain": [
       "array(['Pop', 'Hip-Hop', 'Not Available', 'Other', 'Rock', 'Metal',\n",
       "       'Country', 'Jazz', 'Electronic', 'Folk', 'R&B', 'Indie'], dtype=object)"
      ]
     },
     "execution_count": 3,
     "metadata": {},
     "output_type": "execute_result"
    }
   ],
   "source": [
    "# Get genres\n",
    "data.genre.unique()"
   ]
  },
  {
   "cell_type": "code",
   "execution_count": 4,
   "metadata": {
    "collapsed": true
   },
   "outputs": [],
   "source": [
    "# I chose Hip-Hop\n",
    "genre = \"Hip-Hop\""
   ]
  },
  {
   "cell_type": "code",
   "execution_count": 5,
   "metadata": {},
   "outputs": [
    {
     "data": {
      "text/html": [
       "<div>\n",
       "<style scoped>\n",
       "    .dataframe tbody tr th:only-of-type {\n",
       "        vertical-align: middle;\n",
       "    }\n",
       "\n",
       "    .dataframe tbody tr th {\n",
       "        vertical-align: top;\n",
       "    }\n",
       "\n",
       "    .dataframe thead th {\n",
       "        text-align: right;\n",
       "    }\n",
       "</style>\n",
       "<table border=\"1\" class=\"dataframe\">\n",
       "  <thead>\n",
       "    <tr style=\"text-align: right;\">\n",
       "      <th></th>\n",
       "      <th>index</th>\n",
       "      <th>song</th>\n",
       "      <th>year</th>\n",
       "      <th>artist</th>\n",
       "      <th>genre</th>\n",
       "      <th>lyrics</th>\n",
       "    </tr>\n",
       "  </thead>\n",
       "  <tbody>\n",
       "    <tr>\n",
       "      <th>249</th>\n",
       "      <td>249</td>\n",
       "      <td>i-got-that</td>\n",
       "      <td>2007</td>\n",
       "      <td>eazy-e</td>\n",
       "      <td>Hip-Hop</td>\n",
       "      <td>(horns)...\\n(chorus)\\nTimbo- When you hit me o...</td>\n",
       "    </tr>\n",
       "    <tr>\n",
       "      <th>250</th>\n",
       "      <td>250</td>\n",
       "      <td>8-ball-remix</td>\n",
       "      <td>2007</td>\n",
       "      <td>eazy-e</td>\n",
       "      <td>Hip-Hop</td>\n",
       "      <td>Verse 1:\\nI don't drink brass monkey, like to ...</td>\n",
       "    </tr>\n",
       "    <tr>\n",
       "      <th>251</th>\n",
       "      <td>251</td>\n",
       "      <td>extra-special-thankz</td>\n",
       "      <td>2007</td>\n",
       "      <td>eazy-e</td>\n",
       "      <td>Hip-Hop</td>\n",
       "      <td>19 muthaphukkin 93,\\nand I'm back in this bitc...</td>\n",
       "    </tr>\n",
       "    <tr>\n",
       "      <th>252</th>\n",
       "      <td>252</td>\n",
       "      <td>boyz-in-da-hood</td>\n",
       "      <td>2007</td>\n",
       "      <td>eazy-e</td>\n",
       "      <td>Hip-Hop</td>\n",
       "      <td>Hey yo man, remember that shit Eazy did a whil...</td>\n",
       "    </tr>\n",
       "    <tr>\n",
       "      <th>253</th>\n",
       "      <td>253</td>\n",
       "      <td>automoblie</td>\n",
       "      <td>2007</td>\n",
       "      <td>eazy-e</td>\n",
       "      <td>Hip-Hop</td>\n",
       "      <td>Yo, Dre, man, I take this bitch out to the mov...</td>\n",
       "    </tr>\n",
       "  </tbody>\n",
       "</table>\n",
       "</div>"
      ],
      "text/plain": [
       "     index                  song  year  artist    genre  \\\n",
       "249    249            i-got-that  2007  eazy-e  Hip-Hop   \n",
       "250    250          8-ball-remix  2007  eazy-e  Hip-Hop   \n",
       "251    251  extra-special-thankz  2007  eazy-e  Hip-Hop   \n",
       "252    252       boyz-in-da-hood  2007  eazy-e  Hip-Hop   \n",
       "253    253            automoblie  2007  eazy-e  Hip-Hop   \n",
       "\n",
       "                                                lyrics  \n",
       "249  (horns)...\\n(chorus)\\nTimbo- When you hit me o...  \n",
       "250  Verse 1:\\nI don't drink brass monkey, like to ...  \n",
       "251  19 muthaphukkin 93,\\nand I'm back in this bitc...  \n",
       "252  Hey yo man, remember that shit Eazy did a whil...  \n",
       "253  Yo, Dre, man, I take this bitch out to the mov...  "
      ]
     },
     "execution_count": 5,
     "metadata": {},
     "output_type": "execute_result"
    }
   ],
   "source": [
    "# eliminate all non genre results\n",
    "data = data.loc[data.genre == genre]\n",
    "data.head()"
   ]
  },
  {
   "cell_type": "code",
   "execution_count": 6,
   "metadata": {},
   "outputs": [
    {
     "name": "stdout",
     "output_type": "stream",
     "text": [
      "1000volts, 112, 18, 1982, 1982-termanology-and-statik-selektah, 2-chainz, 2-chainz-wiz-khalifa, 2-live-crew, 2-live-jews, 2-pistols, 21-savage, 213, 22-savage, 257ers, 2much, 2nd-ii-none, 2pac, 2pac-outlawz, 2win, 30h3, 31st-century, 360, 3d, 3plusss, 3rd-bass, 40-cal, 40-glocc, 40winks, 44g, 4real, 4th-avenue-jones, 4th-pyramid, 5-mic-z, 5-sterne-deluxe, 50-cent, 504-boyz, 60-east, 600breezy, 69-boyz, 6lack, 7-days-of-funk, 7-profitz, 704, 8-ball, 8ightball, 931blackboy, 99-posse, 9th-wonder, a, a-ap-ant, a-b, a-boogie, a-chal, a-f-r-o, a-game, a-k-s-w-i-f-t, a-m-sniper, a-mafia, a-p, a-trak, a-villa, a-wax, aaries, aaron-cartier, aaron-knight, aaron-smith, aasim, ab-soul, abd-al-malik, abica, abidaz, abk, abn, above-the-law, absolute, absolute-beginner, abstract-rude, ace-hood, aceyalone, acro-jazz-laboratories, action-bronson, acts-29, ad-sorry-jaynari, adam-tensta, adamn-killa, add-2, adeaze, adian-coker, adina-howard, aer, aesop-rock, afasi-filthy, afrika-bambaataa, afroman, after-the-smoke, afu-ra, ag-da-coroner, aggro, aggro-berlin, agust-d, agustus-thelefant, ahi, ahmad, ahmir, ai-otsuka, aj-tracey, ajs-nigrutin, ajs-nigrutin-bvana, akala, akhenaton, akinyele, akwid, al-doe, albe-back, aldo, ale-jhay, aleister-x, aleon-craft, alex-sandunga, alex-wiley, alexis-y-fido, ali, ali-g, ali-gipp, alia-zin, alias, alicia-bay-laurel, alkpote, allan-kingdom, allday, allen-iverson, alley-boy, alligatoah, aloe-blacc, alpoko-don, alx-r, amanda-blank, amanda-cook, amanda-diva, ambassador, american-yard, amg, amil, amir, ammbush, amo, ana-baby, ana-tijoux, analog-brothers, anamanaguchi, anden, anderson-paak, andrae-crouch, andre-3000, andre-crouch, andre-legacy, andre-merritt, andre-nickatina, andrew-e, andy-iman, andy-milonakis, andy-mineo, angel-haze, angel-khriz, angeline-quinto, angelo-mota, angie-martinez, animal-cannibals, annakin-slayd, another-bad-creation, anselmo-ralph, ant-banks, anthony-evans, antoine-dodson, antwon, anuel-aa, anybody-killa, aoi-teshima, apl-de-ap, apollo-brown, apollo-the-great, araabmuzik, arab, archie-bang, architekt, ari, ariez-onasis, aro, arrested-development, arsonists, asa, asaad, asap-ferg, asap-lotto, asap-mob, asap-nast, asap-rocky, asco-jones, asher-roth, ashley-walters, ashmont-hill, ashoka, asia-nitollano, asiah-dio, asian-dub-foundation, aspektz, astal, aston-matthews, astro-aka-the-astronomical-kid, astroid-boys, astronautalis, at, atmosphere, atozzio, attitude, atumpan, atypical, audio-bullys, audio-push, audio-two, audra-lynn, austin-millz, authentic-sounds, automator, avant, avery-storm, aviation, awar, awkword, axe-murder-boys, axl-smith, az, az-the-visualiza, azad-right, azealia-banks, azee, aziatix, azizi-gibson, b-breaks, b-g, b-g-knocc-out, b-iousha, b-legit, b-leza, b-mac, b-martin, b-o-b, b-real, b-tight, baauer, baba, babaman, babeo-baggins, baby-aka-the-1-stunna, baby-blue, baby-blue-soundcrew, baby-boy, baby-boy-da-prince, baby-d, baby-k, baby-rasta, baby-rasta-y-gringo, babycham, babyfather, backburner, bad-azz, bad-boy-s-da-band, bad-meets-evil, bad-spit, badbadnotgood, badministrator, baek-ji-young, bahamadia, bailey, baiyu, baka-boyz, bali, bandit-gang-marco, bandomoss, bangladesh, bangloose, bankroll-mafia, banks-steelz, barikad-crew, bars-and-melody, bas, basby, bashy, bathgate, bay-swag, bayje, baze, bbod, be-me, beanie-man, beanie-sigel, beast-1333, beastie-boys, beatnuts, beautiful-eulogy, bee, beedie, beenie-man, beginner, bell-biv-devoe, ben-blackwell, ben-j, benefit, benin-city, benjamin-bear, bennib, benzino, beogradski-sindikat, berner, bernz, bethel-live, bethel-music, betty-ford-boys, beverly-crawford, bezz-believe, bg-knocc-out-dresta, bianca-bonnie, big-ali, big-baby-gandhi, big-bank-black, big-boi, big-d, big-daddy-kane, big-ed, big-freedia, big-gipp, big-h, big-k-r-i-t, big-kuntry-king, big-l, big-lean, big-lou, big-mike, big-moe, big-noyd, big-o, big-pokey, big-pooh, big-pun, big-punisher, big-rob, big-sant, big-scoob, big-sean, big-smo, big-timers, big-tuck, big-twan, big-tymers, biga-ranx, bigflo-oli, bike-for-three, bikstok-ra-gsystem, bil-basmala, billard, billy-blue, billy-griffin, binary-star, binky-bandz, bino-rideaux, bio-killaz, birdman, birdman-mack-maine, birdy-nam-nam, bishop-lamont, bishop-nehru, bishop-paul-s-morton, bitza, biz-markie, bizarre, bizzy-bone, bizzy-crook, bizzy-montana, black-alien, black-buddafly, black-cobain, black-dave, black-el, black-eyed-peas, black-frost, black-hippy, black-milk, black-money, black-moon, black-nasty, black-rob, black-sheep, black-thought, blackalicious, blackstreet, blade, bladee, blake-banks, blaq-poet, blaqstarr, blastah-beatz, blastermann, blaze-ya-dead-homie, blended-babies, bleu-davinci, bligg, bliss-n-eso, blockboys, blood-diamonds, blood-raw, bloody-jay, blu, blu-exile, blu-fate, blu-nottz, blue-sky-black-death, blueprint, blumentopf, blvd-marc, bmac-the-queen, bo-deal, bob-da-rage-sense, bobby-brackins, bobby-creekwater, bobby-shmurda, bobby-v, bobby-valentino, bobbyxl, bobo-norco, boca-floja, bodega-bamz, boldy-james, bondan-prakoso, bone-brothers, bone-crusher, bone-thugs, bone-thugs-n-harmony, bones, bonez-mc, boo-rossini, booba, boofboiicy, boogie, boogie-down-productions, boogiemonsters, boogz-boogetz, boom-shaka, boondox, boot-camp-clik, born-jamericans, boss, boss-hogg-outlawz, bounty-killer, bouwer-bosch, bow-wow, boy-wonder, boyz-n-da-hood, bozack-morris, brad-neely, brand-nubian, brandon-jarod, brandon-vee, brasstracks, brav, bravehearts, break-science, brenton, brian-doerksen, brian-fresco, brianna-perry, bricc-baby, bridget-kelly, brigitte, brihang, brisco, broken, brokencyde, brooke-candy, brooke-valentine, brotha-lynch-hung, brother-ali, brown-boy, brown-intentions, bryan-duncan, bryant-dope, bryant-myers, bryson-tiller, bubba-sparxxx, buck-22, buck-65, buckmouth, buckshot, buckshot-lefonque, buddha-monk, bug-mafia, bugatti-boyz, bullion, bully, bumpy-knuckles, bun-b, burberry-perry, busdriver, bushido, busta-rhymes, butch-clancy, bwa-kane, byron-bank, c-dot-castro, c-murder, c-plus, c-rayz-walz, c-rico, c-side, c2c, ca-h-money-click, ca-hflow, cadillac-don-j-money, caleborate, calez, cali-life-style, cali-swag-district, califa-thugs, califonia-swag-district, california-swag-district, calikidd, calle-13, cam-meekins, cam-ron, cam-wallace, camel-power-club, cameron-dallas, cameron-grey, camoflauge, camp-lo, can-t-stop-won-t-stop, cana, candace-jones, candy-hill, candy-rain, canibus, cannibal-ox, canton-jones, cap-1, capital-b, capital-steez, capone, capone-n-noreaga, cappadonna, captain-murphy, carla-s-dreams, cartel-de-santa, cartie, cartier-kitten, casa-degli-specchi, case, casey-veggies, cash-out, cashis, cashius-green, cashmere-cat, cashtastic, casper, cassidy, cassow, castro, casual, cato, caught-a-ghost, cazwell, cee-lo, ceej, celly-cel, ces-cru, ceza, chad-b, chadd-mcclain, chakuza-raf-camora, chamillionaire, chance-waters, chancellor-warhol, charles-billingsley, charles-hamilton, charli-baltimore, charlie-hustle, chasing-destiny, chaundon, chaz-french, cheek, cheka, cherish, cherlise, chevy-woods, chicago-santana, chico-coolwadda, chico-debarge, chiddy-bang, chief-keef, childish-gambino, children-of-distance, china-mac, chinese-man, chingo-bling, chingy, chino-xl, chinx, chinx-drugz, chip, chip-tha-ripper, chip-the-ripper, chipmunk, choclair, chocolate-droppa, chocquibtown, choklate, choo-jackson, chris-brown, chris-crack, chris-geo, chris-j, chris-miles, chris-porter, chris-rivers, chris-styles, chris-travis, chris-webby, chrisco, chrishan, christon-gray, christy-nockels, chubbie-baby, chubby-jag, chuck-inglish, chuck-strangers, chutzpah, chuuwee, chynaman, cinos, circle-of-tyrants, ciro, cisco-adler, cities-aviv, city-high, cj, cj-flemings, cj-fly, clam-casino, clams-casino, clap-clap, classified, clementino, clinton-sparks, clipping, clipse, club-dogo, clueso, clyde-carson, cobe-obeah, cocaine-80-s, cocoa-brovaz, cocoa-sarai, coely, coffey-anderson, cold-187um, cold-flamez, colle-der-fomento, college-boyz, collie-buddz, colt-ford, common, common-john-legend, common-sense, company-flow, compton-menace, compton-s-most-wanted, conecrew, conecrewdiretoria, conejo, connie-price-the-keystones, consequence, contact-play, contrast, control-machete, cook-laflare, cookie-money, cool-breeze, cool-calm-pete, coolio, coolshit, copywrite, corason-the-great, cordell-francis, corey-latif-williams, cormega, corner-boy-p, corporate-lo-fi, correy-c, corte-ellis, cory-asbury, cory-gunz, cory-mo, cory-rhymal, cosculluela, countdown-kids, courtney, cousin-fik, cousin-stizz, cowboy-troy, cozz, cr7z, craig-mack, craig-xen, crave-uk, crazy-titch, creative-gold, crime-mob, criolo, crishan, criss-blaziny, cristyle, cro, crooked-i, crowder, crown-bella, crs, cru, crucial-conflict, cruzito, cuban-link, cunninlynguists, cupcakke, cupid, curren-y, curse, curtis-young, cut-chemist, cya, cyhi-da-prynce, cyhi-the-prynce, cymphonique, cyne, cypher-clique, cypress-hill, cyrus-deshield, cyssero, czarface, d-12, d-bo, d-double-e, d-i-t-c, d-jaysremm, d-lo, d-mac, d-moe, d-money-pros, d-nice, d-o-e, d-prosper, d-pryde, d-rock, d-sisive, d-unit, d-why, d2e, d4l, da-backwudz, da-beatminerz, da-brat, da-entourage, da-grym-reefer, da-lench-mob, da-luniz, da-mafia-6ix, da-t-r-u-t-h, da-youngfellaz, da-youngsta-s, daddy-dinero, daddy-freddy, daddy-yankee, dae-dae, daforce, dag-savage, daily-meds, dale-cornish, damani, dame-d-o-l-l-a, damez, damian-jr-gong-marley, damian-junior-gong-marley, damian-marley, damu-the-fudgemunk, dan-bremnes, dan-bull, danger-doom, danger-mouse, danger-mouse-and-jemini, daniel-calveti, daniel-ingram, danja-mowf, danni-toma, danny-brown, danny-fernandes, danny-seth, dano, danse, dante-beckford, daoko, dappy, darlene-zschech, darnell-robinson, darnell-williams, darrell-evans, darthreider, daryl-coley, das-efx, dash-flash, dat-adam, dat-boy, dave-b, dave-east, dave-young, davee, david-banner, david-dallas, davinche, davion-farris, davis, day, daye-jack, dayton-family, daz-dillinger, daz-woods, dblcrss, dc-young-fly, dcaelek, de-jeugd-van-tegenwoordig, de-la-ghetto, de-la-soul, de-lcaeb, deach, dead-celebrity-status, dead-prez, deal-pacino, dealema, death-grips, dee-1, dee-goodz, deemah, deen-burbigo, deep, deep-side, deez-nuts, def-jef, def-manic, def-squad, defari, defekt, deichkind, deine-freunde, del, del-tha-funkee-homosapien, del-the-funky-homosapien, delasean, delinquent-habits, dellafuente, dels, deltron, deltron-3030, dem-franchize-boyz, dem-hoodstarz, demarco, denaun, denaun-porter, deniro, deniro-farrar, denyo, denzel-curry, deonte, der-plot, derek-minor, derek-pope, derek-wise, derrick-milano, desiigner, dessa, destorm, detail, deuce, devin-the-dude, devine-carama, devonwho, dewayne-woods, dex, dexter, dez, dezert-eez, diafrix, diamond-and-the-psychotic-neurotics, dice-raw, dice-soho, diddy, die-antwoord, die-fantastischen-vier, die-firma, digable-planets, digga, diggy, diggy-dex, diggy-simmons, digital-underground, diirty-ogz, dilated-peoples, dillon-cooper, dinos-punchlinovic, diplo, diplomats, dipset, dirt-nasty, dirty-money, dirtyface-smook, disiz, disko, disturbing-tha-peace, divine-brown, dizraeli-the-small-gods, dizzee-rascal, dizzy-wright, dj-abdel, dj-absolut, dj-battle, dj-carnage, dj-casper, dj-chose, dj-class, dj-clue, dj-concept, dj-cut-killer, dj-drama, dj-drez, dj-efn, dj-envy, dj-esco, dj-felli-fel, dj-fly-guy, dj-green-lantern, dj-haze, dj-hi-tek, dj-hollywood, dj-honda, dj-ill-will, dj-jazzy-jeff, dj-jazzy-jeff-the-fresh-prince, dj-kayslay, dj-khaled, dj-kool, dj-kridlokk, dj-krush, dj-laz, dj-manipulator, dj-muggs, dj-pain-1, dj-paul, dj-pharris, dj-pone, dj-premier-bumpy-knuckles, dj-quik, dj-rebel, dj-sancho, dj-scream, dj-self, dj-shadow, dj-skee, dj-snake, dj-snake-lil-jon, dj-spinatik, dj-spinking, dj-spinna, dj-suss-one, dj-tony-touch, dj-twin, dj-u-neek, dj-vadim, dj-webstar, dj-whoo-kid, djas, dk, dl-incognito, dmx, doc-brown, doc-gyneco, doe-b, doe-boy, dohzi-t, dok2, doley-bernays, dolla, dom-kennedy, dom-mclennon, dom-pachino, domani-harris, dominic-balli, dominique-de-beau, dominique-young-unique, domino, dominoe-ch-yea, domo-genesis, don-benjamin, don-johnson-big-band, don-martin, don-moen, don-omar, don-omar-lucenzo, don-p, don-trip, donaeo, donald-lawrence, donatan-cleo, donato, donchristian, donmonique, donnie-trumpet, donnis, donny-goines, doom, dope-boy, dope-d-o-d, dopetrackz, doppelkopf, dorian-concept, dorrough, dorrough-music"
     ]
    },
    {
     "name": "stdout",
     "output_type": "stream",
     "text": [
      ", dose-one, dosseh, dottie-peoples, double-life, doubleswee, doughboyz-cashout, dougie-f, down-with-webster, dpg, dr-dooom, dr-dre, dr-octagon, dr-who-dat, drag-on, drake, drapht, dre, dre-dog-andre-nickatina, dream-warriors, dred-scott, dreezy, drei-ros, drevo-coolidge, drew-deezy, drew-sidora, driicky-graham, dro, droop-e, dru-hill, drumma-boy, drunken-tiger, dtweezer, dub-fx, dub-phizix, dubb, dubmatique, ducko-mcfli, duckwrth, dumbfoundead, dumbfounded, dungeon-family, dunson, durag-dynasty, durrty-goodz, dusty-mcfly, dvsn, dy, dyablo, dyme-a-duzin, e-40, e-40-too-short, e-a-ski, e-dog, e-dubble, e-jake, eaggerstunn, earl-sweatshirt, earthling, east, easy-mo-bee, eazy-e, ebony-eyez, ecco2k, echo, ed-o-g, ed-sheeran-yelawolf, edai, edan, eddie-b, eddie-james, eddie-writer, eddy-baker, edo-maajka, edorf, edward-chen, ege-rubukrngu, egyptian-lover, eightball-mjg, eighty4-fly, eins-zwo, el-general, el-lapiz-conciente, el-p, elastinen, eldo, eldorado-red, elemental, elephant-man, eliacim, ella-chen, ella-mai, elokuu, elzhi, emanero, emanny, emex, emicida, emilio-rojas, eminem, eminem-d12, emis-killa, emm, emmune, emp, empire-cast, en-gma, encore, english-frank, entrelineas, enzo-ikah, eoghan-heaslip, epic-rap-battles-of-history, epmd, eppic, erfan, eric-b-rakim, eric-lau, erick-arc-elliott, erick-sermon, ericka-june, erik-og-kriss, erk-tha-jerk, ernie-haase-signature-sound, esham, ess-vee, esta, estelle, ester-dean, ethan-sacii, euphonik, euro, eva-maria, eve, evian-christ, evidence, evil-nine, evrythingmick, example, express-rising, eyedea, eyedea-abilities, eyenine, eypio, eyshila, f-virtue, fabio-rovazzi, fabo, fabolous, fabri-fibra, faceoff, faf-larage, fama, famous, famous-dex, far-east-movement, fashawn, fast-life-youngstaz, fat-boys, fat-joe, fat-jon, fat-nick, fat-trel, fatkidsbrotha, fatman-scoop, fatty-koo, fctznf-sterne-deluxe, fe-tha-don, federation, fedez, fekky, felix-krull, felli-fel, feloni, fenix, ferris-mc, fettes-brot, fetty-wap, fg, field-mob, fiend-cookin-soul, filastine, final-outlaw, finale, finding-novyon, fintelligens, fire-camp, first-degree, first-serve, flashmaster-ray, flatbush-zombies, flatlinerz, flavor-flav, flawless-real-talk, fler, flesh-n-bone, flight-school, flip-major, flipmode-squad, flo-cole, flo-rida, flobots, floetics, floetry, flosstradamus, flow-rida, flowboysfam, flowklorikos, flowz, fluent, fly-society, fly-street-gang, flying-lotus, forch-fabalon, forever-jones, fowl, foxal, foxy-brown, frank-ccean, frank-nitt, frank-t, frankie-smith, frauenarzt-manny-marc, frayser-boy, freak-nasty, freck-billionaire, fred-de-palma, fred-money, fred-the-godson, freddie-foxxx, freddie-gibbs, freddy-p, fredo-santana, fredro-starr, free-ackrite, free-chapel, freekey-zekey, freestyle, freeway, freeze, french-montana, french-montana-coke-boys, frenchie, fresh-linen, freundeskreis, frits, fronda, fu-schnickens, fugative, funk-volume, funkdoobiest, funkmaster-flex, funky-family, furthermore, future, future-allah, future-atl, future-brown, future-gucci-mane, futuristic, g-boyz, g-dep, g-eazy, g-fellas, g-frsh, g-g-sindikatas, g-mo-skee, g-o-o-d-music, g-perico, g4-boyz, g4shi, gabriel-antonio, gabriel-o-pensador, gagle, game, gangrene, gangsta-blac, gangsta-boo, gangsta-pat, gangstagrass, gangstarr, gappy-ranks, garscon, gary-chapman, gasoline, gee-wunder, gemello, gemini, gemitaiz, gemitaiz-madman, gemstones, general-knas, general-larry-platt, general-steele, general-woo, general-woo-nered, genetikk, gensu-dean, gentleman-s-dub-club, george-reefah, george-the-poet, george-watsky, georgia-anne-muldrow, georgio, gers-pardoel, geto-boys, ghali, ghetts, ghost-town-djs, ghostface-killah, ghostpoet, ghostwridah, gia-medley, gianni, gibsai-santos, giggs, gilbere-forte, gilles, gillie-da-kid, gina-rene, gino, gino-marley, ginuwine, gio-dee, girl-talk, git-fresh, glasses-malone, glc, gloc9, gnarls-barkley, go-dav, god-des-and-she, goin-through, gold-1, gold-top, golden-features, golden-rules, goldie-lookin-chain, goldie-the-gasman, good-belt-gang, goodfellaz, goodie-mob, gorilla-warfare-tactics, gorilla-zoe, gospel-gangstas, gospel-gangstaz, governor, gp-wu, gradur, grafh, gramatik, grand-puba, grande-marshall, grandmaster-flash, grandtheft, grannies-smoking-pipes, grasu-xxl, gravediggaz, great-dane, the-bangz, the-buttress, the-california-raisins, the-celebration-choir, the-chicharones, the-chipmunks, the-clark-sisters, the-click, the-come-up, the-constellations, the-cool-kids, the-coup, the-cross-movement, the-d-o-c, the-disposable-heroes-of-hiphoprisy, the-dnc, the-doppelgangaz, the-dove-shack, the-foreign-exchange, the-fugees, the-gift-of-gab, the-glitch-mob\n"
     ]
    }
   ],
   "source": [
    "# show all artists in chronological order\n",
    "print(*data.artist.sort_values().unique(), sep= \", \") # To show all artist"
   ]
  },
  {
   "cell_type": "code",
   "execution_count": 7,
   "metadata": {
    "collapsed": true
   },
   "outputs": [],
   "source": [
    "# Those are really much artists, we need to elliminate some, because thay maybe \n",
    "# sing in a nother language like Deichkind or some other reason, I chose\n",
    "artists = \"\"\"blackstreet compton-s-most-wanted diddy dj-jazzy-jeff-the-fresh-prince dr-dre eazy-e eminem \n",
    "             the-d-o-c the-fugees 2pac 50-cent beastie-boys\"\"\".split()"
   ]
  },
  {
   "cell_type": "code",
   "execution_count": 8,
   "metadata": {},
   "outputs": [
    {
     "data": {
      "text/html": [
       "<div>\n",
       "<style scoped>\n",
       "    .dataframe tbody tr th:only-of-type {\n",
       "        vertical-align: middle;\n",
       "    }\n",
       "\n",
       "    .dataframe tbody tr th {\n",
       "        vertical-align: top;\n",
       "    }\n",
       "\n",
       "    .dataframe thead th {\n",
       "        text-align: right;\n",
       "    }\n",
       "</style>\n",
       "<table border=\"1\" class=\"dataframe\">\n",
       "  <thead>\n",
       "    <tr style=\"text-align: right;\">\n",
       "      <th></th>\n",
       "      <th>index</th>\n",
       "      <th>song</th>\n",
       "      <th>year</th>\n",
       "      <th>artist</th>\n",
       "      <th>genre</th>\n",
       "      <th>lyrics</th>\n",
       "    </tr>\n",
       "  </thead>\n",
       "  <tbody>\n",
       "    <tr>\n",
       "      <th>249</th>\n",
       "      <td>249</td>\n",
       "      <td>i-got-that</td>\n",
       "      <td>2007</td>\n",
       "      <td>eazy-e</td>\n",
       "      <td>Hip-Hop</td>\n",
       "      <td>(horns)...\\n(chorus)\\nTimbo- When you hit me o...</td>\n",
       "    </tr>\n",
       "    <tr>\n",
       "      <th>250</th>\n",
       "      <td>250</td>\n",
       "      <td>8-ball-remix</td>\n",
       "      <td>2007</td>\n",
       "      <td>eazy-e</td>\n",
       "      <td>Hip-Hop</td>\n",
       "      <td>Verse 1:\\nI don't drink brass monkey, like to ...</td>\n",
       "    </tr>\n",
       "    <tr>\n",
       "      <th>251</th>\n",
       "      <td>251</td>\n",
       "      <td>extra-special-thankz</td>\n",
       "      <td>2007</td>\n",
       "      <td>eazy-e</td>\n",
       "      <td>Hip-Hop</td>\n",
       "      <td>19 muthaphukkin 93,\\nand I'm back in this bitc...</td>\n",
       "    </tr>\n",
       "    <tr>\n",
       "      <th>252</th>\n",
       "      <td>252</td>\n",
       "      <td>boyz-in-da-hood</td>\n",
       "      <td>2007</td>\n",
       "      <td>eazy-e</td>\n",
       "      <td>Hip-Hop</td>\n",
       "      <td>Hey yo man, remember that shit Eazy did a whil...</td>\n",
       "    </tr>\n",
       "    <tr>\n",
       "      <th>253</th>\n",
       "      <td>253</td>\n",
       "      <td>automoblie</td>\n",
       "      <td>2007</td>\n",
       "      <td>eazy-e</td>\n",
       "      <td>Hip-Hop</td>\n",
       "      <td>Yo, Dre, man, I take this bitch out to the mov...</td>\n",
       "    </tr>\n",
       "  </tbody>\n",
       "</table>\n",
       "</div>"
      ],
      "text/plain": [
       "     index                  song  year  artist    genre  \\\n",
       "249    249            i-got-that  2007  eazy-e  Hip-Hop   \n",
       "250    250          8-ball-remix  2007  eazy-e  Hip-Hop   \n",
       "251    251  extra-special-thankz  2007  eazy-e  Hip-Hop   \n",
       "252    252       boyz-in-da-hood  2007  eazy-e  Hip-Hop   \n",
       "253    253            automoblie  2007  eazy-e  Hip-Hop   \n",
       "\n",
       "                                                lyrics  \n",
       "249  (horns)...\\n(chorus)\\nTimbo- When you hit me o...  \n",
       "250  Verse 1:\\nI don't drink brass monkey, like to ...  \n",
       "251  19 muthaphukkin 93,\\nand I'm back in this bitc...  \n",
       "252  Hey yo man, remember that shit Eazy did a whil...  \n",
       "253  Yo, Dre, man, I take this bitch out to the mov...  "
      ]
     },
     "execution_count": 8,
     "metadata": {},
     "output_type": "execute_result"
    }
   ],
   "source": [
    "# drop all artists, that you do not want\n",
    "data = data[data[\"artist\"].isin(artists)]\n",
    "data = data.dropna()\n",
    "data.head()"
   ]
  },
  {
   "cell_type": "code",
   "execution_count": 9,
   "metadata": {},
   "outputs": [
    {
     "name": "stdout",
     "output_type": "stream",
     "text": [
      "['eazy-e' '50-cent' 'blackstreet' '2pac' 'compton-s-most-wanted'\n",
      " 'the-d-o-c' 'diddy' 'dr-dre' 'the-fugees' 'beastie-boys' 'eminem'\n",
      " 'dj-jazzy-jeff-the-fresh-prince']\n"
     ]
    }
   ],
   "source": [
    "print(data.artist.unique())"
   ]
  },
  {
   "cell_type": "code",
   "execution_count": 10,
   "metadata": {},
   "outputs": [],
   "source": [
    "# Save the Lyrics, to in future being able to skip these Steps\n",
    "data = data.lyrics.values\n",
    "np.save(\"data/data.npy\", data)"
   ]
  },
  {
   "cell_type": "markdown",
   "metadata": {},
   "source": [
    "## Prepare for training\n",
    "\n",
    "This is where we will prepare for training our model. This includes A Dictionary for converting id to character and character to id and defing helper functions regarding data."
   ]
  },
  {
   "cell_type": "code",
   "execution_count": 11,
   "metadata": {
    "collapsed": true
   },
   "outputs": [],
   "source": [
    "import random # for random chunk"
   ]
  },
  {
   "cell_type": "code",
   "execution_count": 12,
   "metadata": {
    "collapsed": true
   },
   "outputs": [],
   "source": [
    "# We built a dictionary class to store our character to idx and vice versa\n",
    "\n",
    "class Dictionary:\n",
    "    def __init__(self):\n",
    "        self.char2idx = {}\n",
    "        self.idx2char = []\n",
    "\n",
    "    def add_char(self, char):\n",
    "        if char not in self.char2idx:\n",
    "            self.idx2char.append(char)\n",
    "            self.char2idx[char] = len(self.idx2char) - 1\n",
    "        return self.char2idx[char]\n",
    "    \n",
    "    def save_vals(self):\n",
    "        np.save(\"data/dict_idx2char.npy\", self.idx2char)\n",
    "        np.save(\"data/dict_char2idx.npy\", self.char2idx)\n",
    "    \n",
    "    def __len__(self):\n",
    "        return len(self.idx2char)"
   ]
  },
  {
   "cell_type": "code",
   "execution_count": 13,
   "metadata": {
    "collapsed": true
   },
   "outputs": [],
   "source": [
    "# define dictionary and some hyper parameters\n",
    "dictionary = Dictionary()\n",
    "chunk_len = 200 # chunk len is on how much data the LSTM should use per epoch on traing"
   ]
  },
  {
   "cell_type": "code",
   "execution_count": 34,
   "metadata": {
    "collapsed": true
   },
   "outputs": [],
   "source": [
    "data = np.load(\"data.npy\") # Load the data\n",
    "data = np.array([a for a in data if len(a) > (chunk_len+1)]) # Only use lyrics which are longer than the chunk_len\n",
    "\n",
    "# Add all characters to Dictionary\n",
    "for lyrics in data:\n",
    "    for i in lyrics:\n",
    "        dictionary.add_char(i)\n",
    "\n",
    "dictionary.save_vals() # Save for future use"
   ]
  },
  {
   "cell_type": "code",
   "execution_count": 35,
   "metadata": {},
   "outputs": [
    {
     "name": "stdout",
     "output_type": "stream",
     "text": [
      "{'(': 0, 'h': 1, 'o': 2, 'r': 3, 'n': 4, 's': 5, ')': 6, '.': 7, '\\n': 8, 'c': 9, 'u': 10, 'T': 11, 'i': 12, 'm': 13, 'b': 14, '-': 15, ' ': 16, 'W': 17, 'e': 18, 'y': 19, 't': 20, 'p': 21, 'a': 22, 'k': 23, 'w': 24, ',': 25, 'l': 26, 'd': 27, 'H': 28, '!': 29, 'g': 30, 'I': 31, '?': 32, 'f': 33, 'v': 34, '1': 35, 'L': 36, 'E': 37, 'z': 38, \"'\": 39, 'G': 40, 'K': 41, 'M': 42, 'B': 43, 'S': 44, 'j': 45, 'D': 46, 'x': 47, 'C': 48, 'N': 49, 'R': 50, '2': 51, 'V': 52, 'A': 53, 'O': 54, ':': 55, ']': 56, 'Y': 57, '3': 58, 'F': 59, '8': 60, 'q': 61, 'P': 62, '4': 63, '0': 64, '5': 65, '\"': 66, 'J': 67, '9': 68, '6': 69, 'U': 70, '+': 71, '@': 72, '{': 73, '*': 74, 'X': 75, '}': 76, 'Q': 77, '[': 78, 'Z': 79, '&': 80, '7': 81, '>': 82, '`': 83, '/': 84, '\\x7f': 85, '%': 86, ';': 87, '_': 88, '\\t': 89, 'Ã': 90, '©': 91, '#': 92, '~': 93, 'ï': 94, '»': 95, '¿': 96, '$': 97, '=': 98, '±': 99, '¢': 100, 'â': 101, '\\x84': 102, '\\x83': 103, 'Â': 104, '¡': 105, '\\x80': 106, '\\x9e': 107, '¨': 108, '^': 109, '¦': 110, '£': 111, '\\x94': 112, '³': 113, '¼': 114, '²': 115, '\\x99': 116, '¤': 117}\n"
     ]
    }
   ],
   "source": [
    "print(dictionary.char2idx) # most of them wont be used"
   ]
  },
  {
   "cell_type": "code",
   "execution_count": 41,
   "metadata": {},
   "outputs": [],
   "source": [
    "# for training we define a function which randomly samples a passage out of our lyrics with character len chunk_len\n",
    "\n",
    "def random_chunk():\n",
    "    lyrics = data[np.random.randint(0, len(data))]\n",
    "    start_index = np.random.randint(0, len(lyrics) - chunk_len)\n",
    "    end_index = start_index + chunk_len + 1\n",
    "    return lyrics[start_index:end_index]"
   ]
  },
  {
   "cell_type": "markdown",
   "metadata": {},
   "source": [
    "## Build the Model\n",
    "\n",
    "Now comes the fun part. We will be building our model. It is an LSTM model. That's almost all there's to it"
   ]
  },
  {
   "cell_type": "code",
   "execution_count": 17,
   "metadata": {
    "collapsed": true
   },
   "outputs": [],
   "source": [
    "# import torch\n",
    "import torch\n",
    "import torch.nn as nn\n",
    "from torch.autograd import Variable"
   ]
  },
  {
   "cell_type": "code",
   "execution_count": 18,
   "metadata": {
    "collapsed": true
   },
   "outputs": [],
   "source": [
    "class RNN(nn.Module):\n",
    "    def __init__(self, input_size, hidden_size, output_size, n_layers=1):\n",
    "        super(RNN, self).__init__()\n",
    "        self.input_size = input_size\n",
    "        self.hidden_size = hidden_size\n",
    "        self.output_size = output_size\n",
    "        self.n_layers = n_layers\n",
    "        \n",
    "        self.encoder = nn.Embedding(input_size, hidden_size) # This is the encoding layer\n",
    "        self.lstm = nn.LSTM(hidden_size, hidden_size, n_layers) # if you want a standard RNN use nn.GRU instead of nn.LSTM\n",
    "        self.decoder = nn.Linear(hidden_size, output_size) # and this decodes the out from the lstm to a character prediction\n",
    "    \n",
    "    def forward(self, input, hidden):\n",
    "        input = self.encoder(input.view(1, -1)) # at first we pass the input throught the encoder\n",
    "        output, hidden = self.lstm(input.view(1, 1, -1), hidden) # then through the lstm\n",
    "        output = self.decoder(output.view(1, -1)) # And then through the the decoder\n",
    "        return output, hidden # We need to store the hidden for future use\n",
    "\n",
    "    def init_hidden(self):\n",
    "        # If you're using GRU, delete the 2\n",
    "        return Variable(torch.zeros(2, self.n_layers, 1, self.hidden_size)) # This just is the first hidden \n",
    "                                                                            # which gets pat in the Network\n",
    "        "
   ]
  },
  {
   "cell_type": "markdown",
   "metadata": {},
   "source": [
    "## Defining helper functions for training\n",
    "In this step were right before being able to traing our Model. We will built an function for getting data which will be able to be interpred by the machine, a training and a function for evaluating the network"
   ]
  },
  {
   "cell_type": "code",
   "execution_count": 19,
   "metadata": {},
   "outputs": [
    {
     "name": "stdout",
     "output_type": "stream",
     "text": [
      "tensor([22, 14,  9, 46, 37, 59])\n"
     ]
    }
   ],
   "source": [
    "# These functions convert random_chunk to numerical data and inputs and targets. First of all we will need a \n",
    "# function to convert to numbers\n",
    "\n",
    "def char_tensor(string):\n",
    "    tensor = torch.zeros(len(string)).long() # just gives a Starting point\n",
    "    for c in range(len(string)):\n",
    "        tensor[c] = dictionary.char2idx[string[c]] # uses our dictionary to convert the character to numbers and \n",
    "                                                   # puts it in out tensor\n",
    "    return Variable(tensor)\n",
    "\n",
    "print(char_tensor('abcDEF'))"
   ]
  },
  {
   "cell_type": "code",
   "execution_count": 42,
   "metadata": {},
   "outputs": [],
   "source": [
    "# This combines char_tensor and random_chunk to one function\n",
    "\n",
    "def random_training_set():    \n",
    "    chunk = random_chunk()\n",
    "    inp = char_tensor(chunk[:-1])\n",
    "    target = char_tensor(chunk[1:])\n",
    "    return inp, target"
   ]
  },
  {
   "cell_type": "code",
   "execution_count": 30,
   "metadata": {
    "collapsed": true
   },
   "outputs": [],
   "source": [
    "# This is the evaluation function. It takes a starting string, the len of the prediction in characters and \n",
    "# how sure the net is about the characters it predicts. If to low the net will predict quite boring text and if to high\n",
    "# the output will make no sense\n",
    "\n",
    "def evaluate(decoder, prime_str='A', predict_len=100, temperature=0.8):\n",
    "    hidden = decoder.init_hidden()\n",
    "    prime_input = char_tensor(prime_str)\n",
    "    predicted = prime_str\n",
    "\n",
    "    # Use priming string to \"build up\" hidden state\n",
    "    for p in range(len(prime_str) - 1):\n",
    "        _, hidden = decoder(prime_input[p], hidden)\n",
    "    inp = prime_input[-1]\n",
    "    \n",
    "    for p in range(predict_len):\n",
    "        output, hidden = decoder(inp, hidden)\n",
    "        \n",
    "        # Sample from the network as a multinomial distribution\n",
    "        output_dist = output.data.view(-1).div(temperature).exp()\n",
    "        top_i = torch.multinomial(output_dist, 1)[0]\n",
    "        \n",
    "        # Add predicted character to string and use as next input\n",
    "        predicted_char = dictionary.idx2char[top_i]\n",
    "        predicted += predicted_char\n",
    "        inp = char_tensor(predicted_char)\n",
    "\n",
    "    return predicted"
   ]
  },
  {
   "cell_type": "code",
   "execution_count": 22,
   "metadata": {
    "collapsed": true
   },
   "outputs": [],
   "source": [
    "import time, math\n",
    "\n",
    "# function to use during printing the training process\n",
    "def time_since(since):\n",
    "    s = time.time() - since\n",
    "    m = math.floor(s / 60)\n",
    "    s -= m * 60\n",
    "    return '%dm %ds' % (m, s)"
   ]
  },
  {
   "cell_type": "code",
   "execution_count": 23,
   "metadata": {
    "collapsed": true
   },
   "outputs": [],
   "source": [
    "# the train function for one step, decoder is the rnn, critereon the loss and decoder_optimizer the optimizer\n",
    "def train(inp, target, decoder, criterion, decoder_optimizer):\n",
    "    hidden = decoder.init_hidden() # inits the staring hidden state\n",
    "    decoder.zero_grad() # zero grad the model\n",
    "    loss = 0\n",
    "\n",
    "    for c in range(chunk_len):\n",
    "        output, hidden = decoder(inp[c], hidden) # predict the next character\n",
    "        loss += criterion(output, target[c].view(1)) # add to our loss the loss from this char\n",
    "\n",
    "    # update the net\n",
    "    loss.backward()\n",
    "    decoder_optimizer.step()\n",
    "\n",
    "    return loss.data[0] / chunk_len # return the average character loss"
   ]
  },
  {
   "cell_type": "markdown",
   "metadata": {},
   "source": [
    "## GETTING TO THE FUN STUFF!!\n",
    "Here we will train our model and explore it"
   ]
  },
  {
   "cell_type": "code",
   "execution_count": 43,
   "metadata": {},
   "outputs": [
    {
     "name": "stderr",
     "output_type": "stream",
     "text": [
      "/Users/peerrheinboldt/anaconda/lib/python3.6/site-packages/ipykernel_launcher.py:15: UserWarning: invalid index of a 0-dim tensor. This will be an error in PyTorch 0.5. Use tensor.item() to convert a 0-dim tensor to a Python number\n",
      "  from ipykernel import kernelapp as app\n"
     ]
    },
    {
     "name": "stdout",
     "output_type": "stream",
     "text": [
      "[0m 28s (100 2%) 2.2271]\n",
      "Wh)\n",
      "Done bloulle and 1er dout sran wopeand this Don it ott broran the as thet doges mline wow\n",
      "Nout nok \n",
      "\n",
      "[0m 54s (200 5%) 2.2107]\n",
      "Wherne\n",
      "Bam dave hain't hat dome's on, mighat the unkind ourn't gode's I it tunadd waigga go now him kn \n",
      "\n",
      "[1m 20s (300 7%) 2.4284]\n",
      "Whet cone and sees I on come\n",
      "Can to prein, and in domen my see hed then com frome it foly're my fo le  \n",
      "\n",
      "[1m 47s (400 10%) 1.9770]\n",
      "Wh-gar wavin' bit, cave the blan the of the so loes, till ar chors\n",
      "uck\n",
      "Buse dont wan mast way bood the \n",
      "\n",
      "[2m 12s (500 12%) 1.9974]\n",
      "Whore for my deealss winh\n",
      "And I a fasting my cant\n",
      "I do my bodin't we to crofuse cop, what caytle uss I \n",
      "\n",
      "[2m 37s (600 15%) 1.9445]\n",
      "What\n",
      "This, what seed got ain' the pomin a what 's my lipter plasin sheele, beet I wage it\n",
      "You cainhed  \n",
      "\n",
      "[3m 2s (700 17%) 2.0944]\n",
      "Wher the girl\n",
      "Thin't you my down you a smay maint try say Wain be lon thas my Bang you ur awon my in s \n",
      "\n",
      "[3m 29s (800 20%) 1.8762]\n",
      "When speat\n",
      "I 1fell beat your suntin' motin' bet if I'm I come link\n",
      "I don't ain't a got mut backer in u \n",
      "\n",
      "[3m 54s (900 22%) 1.9234]\n",
      "Wher bea I or the ray\n",
      "Cause no hear dis a for slem we with yo''s ife atrout everine welis up rears on  \n",
      "\n",
      "[4m 19s (1000 25%) 1.8487]\n",
      "What out feft waintin' spheak the not you the on't babay you my clangsoice\n",
      "And you got corly now it yo \n",
      "\n",
      "[4m 45s (1100 27%) 1.8328]\n",
      "Whe Pun hove you just 2 all spome you've wame word he gos\n",
      "The way you knownna wan't of the walk me the \n",
      "\n",
      "[5m 12s (1200 30%) 1.6163]\n",
      "Whould girs\n",
      "I aid I ditched a lick\n",
      "IT what in the in then slonderter. holl our\n",
      "Lass\n",
      "Ouke a bits\n",
      "New br \n",
      "\n",
      "[5m 40s (1300 32%) 1.7028]\n",
      "Where himbin' they back, as, now I lonewor a lut shite and dy\n",
      "Bow can now, nigga scarn\n",
      "Don't but you l \n",
      "\n",
      "[6m 7s (1400 35%) 2.3985]\n",
      "Whe cordery I playwi\n",
      "I get plan\n",
      "Not the be fuck Dre so word\n",
      "I epic, you\n",
      "You canting\n",
      "Bottold (unna with \n",
      "\n",
      "[6m 34s (1500 37%) 2.0730]\n",
      "Wher sret plear on in liendy a lickin' the me keger yound, a pitto for like nokit]\n",
      "Exless tell some av \n",
      "\n",
      "[7m 0s (1600 40%) 2.4227]\n",
      "Whong and man's never haves\n",
      "When I lah the sing the streed at the futh\n",
      "'Cause so what the par\n",
      "Now I sm \n",
      "\n",
      "[7m 26s (1700 42%) 1.7436]\n",
      "What gets\n",
      "Wey can, I'm like she're sour they Cazzifel ivit, see got shattry shave\n",
      "You'r that your cath \n",
      "\n",
      "[7m 54s (1800 45%) 1.8958]\n",
      "Wher dick as to with me was hang\n",
      "I whink it toes to like to lang in you dood hangs\n",
      "('hatle was back do \n",
      "\n",
      "[8m 21s (1900 47%) 1.8181]\n",
      "Whate what I by say my swing never the he's gett the hart I get tryou fool\n",
      "Whit that inting is a nompo \n",
      "\n",
      "[8m 47s (2000 50%) 1.7575]\n",
      "Wher all the dreep\n",
      "So keen on and of like liqa gust bleep\n",
      "Wear m firm Goods tha rafucheh that danggenn \n",
      "\n",
      "[9m 13s (2100 52%) 1.5857]\n",
      "Whole minked the fit no neword it Mittin' slise the for the spise ok shoes there's on that the lookin  \n",
      "\n",
      "[9m 38s (2200 55%) 1.8043]\n",
      "What I fuck......... (Weop I los deep me he's (yg it you know of from make oh and could when I dirl, y \n",
      "\n",
      "[10m 3s (2300 57%) 1.6575]\n",
      "Where's to new he work\n",
      "I''m work whybs, the be the with grap dagge of\n",
      "Comming the me puld it brother p \n",
      "\n",
      "[10m 28s (2400 60%) 2.3868]\n",
      "Whoruss be some with to facy, fuck me\n",
      "Moule for Martoney to the by the find so many\n",
      "We betime and puck \n",
      "\n",
      "[10m 52s (2500 62%) 1.6425]\n",
      "Whe's I bit your parn\n",
      "I'll you a change\n",
      "I nothoth the rood on the hat\n",
      "Could it be ding a don't crange  \n",
      "\n",
      "[11m 18s (2600 65%) 1.8837]\n",
      "Whed-ought and one see I take\n",
      "My you nothas the hast as drone\n",
      "Ever the and know\n",
      "I bating a hernes holi \n",
      "\n",
      "[11m 44s (2700 67%) 1.6954]\n",
      "Whouse the i gast hearted\n",
      "are it no\n",
      "On Chunk, with no Aman crass that you tone in my preatic from shoo \n",
      "\n",
      "[12m 11s (2800 70%) 1.6842]\n",
      "Whorted the with of\n",
      "nice that are to hang and I care, ME Yourie watters a or go waserion one all would \n",
      "\n",
      "[12m 36s (2900 72%) 1.7670]\n",
      "Whelle with once one go you wanner from ty, money, shit\n",
      "And will to shit, Good in the ever marker of d \n",
      "\n",
      "[13m 1s (3000 75%) 1.7554]\n",
      "When clos head I be\n",
      "Shone, your hook a make of me said all the ball think the just try we boys maninia \n",
      "\n",
      "[13m 26s (3100 77%) 2.0315]\n",
      "While sex sem and peel you know\n",
      "A get the back, I'm be, you cugecatch all you\n",
      "I just know, to bagger\n",
      "O \n",
      "\n",
      "[13m 51s (3200 80%) 2.0121]\n",
      "Whan, dap the like, lest allaw\n",
      "That sidning the new your a say so where my his why move shit it\n",
      "MinkSf \n",
      "\n",
      "[14m 15s (3300 82%) 1.9141]\n",
      "Whidor was the dirts somether and the have get so part the fifter start hitting mant the like a pents\n",
      " \n",
      "\n",
      "[14m 41s (3400 85%) 1.8804]\n",
      "When I can your more you money was\n",
      "But anot, you need hell I come is mole to shit and say\n",
      "Sentywele yo \n",
      "\n",
      "[15m 7s (3500 87%) 1.7570]\n",
      "Whoah to deep to deance be out more, wither\n",
      "(\"See you're what one down cime even truse they niggas and \n",
      "\n",
      "[15m 34s (3600 90%) 2.3045]\n",
      "Whore the must a rocks the came\n",
      "Cus so like the thush blong in a love me sout\n",
      "You can you come.\n",
      "But\n",
      "Sa \n",
      "\n",
      "[16m 3s (3700 92%) 1.6905]\n",
      "Wherse a let and now you know from the interees on mother know\n",
      "Had bricaty sine at your on as up ass a \n",
      "\n",
      "[16m 29s (3800 95%) 1.5834]\n",
      "Where your branached\n",
      "You're peep yeah house have word a three\n",
      "I know he's I ble that need or now\n",
      "No wi \n",
      "\n",
      "[16m 55s (3900 97%) 1.9485]\n",
      "Where's the still like in leven my make\n",
      "I back day move than mammmase\n",
      "And chil matries\n",
      "I have the be t \n",
      "\n",
      "[17m 22s (4000 100%) 1.9255]\n",
      "Whee once can't meating and can sping the paid\n",
      "Can't quest, the pullet the ha say the puttraic my gone \n",
      "\n"
     ]
    }
   ],
   "source": [
    "# If you train a little longer the model will perform even better\n",
    "n_epochs = 4000\n",
    "print_every = 100\n",
    "plot_every = 10\n",
    "hidden_size = 100 # the hidden layer size of the RNN\n",
    "n_layers = 1 # teh number of layers in LSTM\n",
    "lr = 0.007\n",
    "model_name = \"lstm_1000\"\n",
    "\n",
    "rnn = RNN(len(dictionary), hidden_size, len(dictionary), n_layers) # Our model with the amount of characters in our \n",
    "                                                                   # dict as input and output\n",
    "rnn_optimizer = torch.optim.Adam(rnn.parameters(), lr=lr) # Our optimizer will be Adam\n",
    "loss = nn.CrossEntropyLoss() # As our Loss we will be using CrossEntropyLoss\n",
    "\n",
    "start = time.time()\n",
    "all_losses = []\n",
    "loss_avg = 0\n",
    "\n",
    "for epoch in range(1, n_epochs + 1):\n",
    "    this_loss = train(*random_training_set(), rnn, loss, rnn_optimizer)\n",
    "    loss_avg += this_loss\n",
    "\n",
    "    if epoch % print_every == 0:\n",
    "        print('[%s (%d %d%%) %.4f]' % (time_since(start), epoch, epoch / n_epochs * 100, this_loss))\n",
    "        print(evaluate(rnn, 'Wh', 100), '\\n')\n",
    "\n",
    "    if epoch % plot_every == 0:\n",
    "        all_losses.append(loss_avg / plot_every)\n",
    "        loss_avg = 0"
   ]
  },
  {
   "cell_type": "code",
   "execution_count": 44,
   "metadata": {},
   "outputs": [
    {
     "data": {
      "text/plain": [
       "[<matplotlib.lines.Line2D at 0x10e670e48>]"
      ]
     },
     "execution_count": 44,
     "metadata": {},
     "output_type": "execute_result"
    },
    {
     "data": {
      "image/png": "[encoded data removed]",
      "text/plain": [
       "<matplotlib.figure.Figure at 0x111852898>"
      ]
     },
     "metadata": {},
     "output_type": "display_data"
    }
   ],
   "source": [
    "# Plot the history of losses, to visualize Training\n",
    "import matplotlib.pyplot as plt\n",
    "import matplotlib.ticker as ticker\n",
    "%matplotlib inline\n",
    "\n",
    "plt.figure()\n",
    "plt.plot(all_losses)"
   ]
  },
  {
   "cell_type": "code",
   "execution_count": 45,
   "metadata": {},
   "outputs": [
    {
     "name": "stderr",
     "output_type": "stream",
     "text": [
      "/Users/peerrheinboldt/anaconda/lib/python3.6/site-packages/torch/serialization.py:241: UserWarning: Couldn't retrieve source code for container of type RNN. It won't be checked for correctness upon loading.\n",
      "  \"type \" + obj.__name__ + \". It won't be checked \"\n"
     ]
    }
   ],
   "source": [
    "# saving the model, you need to make folder saved_models\n",
    "torch.save(rnn, \"saved_models/{}.pt\".format(model_name))"
   ]
  },
  {
   "cell_type": "markdown",
   "metadata": {},
   "source": [
    "# Now is your Turn\n",
    "### You can now play around with hyperparameters and generate text"
   ]
  },
  {
   "cell_type": "code",
   "execution_count": 48,
   "metadata": {},
   "outputs": [
    {
     "name": "stdout",
     "output_type": "stream",
     "text": [
      "YO what I do really to the stack\n",
      "Love song to the fucker him a back is my a suckin' to exally\n",
      "Ang this wither then the dound put to can't something when I cause Come\n",
      "And it's time it\n",
      "You gotta see siend be lime ain't stang,\n",
      "So the sayes and the say the been it\n",
      "That's so the say to they tempin the sing\n",
      "They say standling of the really\n",
      "I so no hook out the be to the come and mine\n",
      "This the niggaz the pound the time a just that, the sound\n",
      "Like I want the Beat\n",
      "turts that I want this steak in the nigga rest to the still is stange, a me guese a sup\n",
      "He wait on they so the street get so pub so like to seat.\n",
      "I just start on the playin' shit\n",
      "Love is take it's to bout me out\n",
      "To part me in my somether still for in\n",
      "I musing is the with the pung\n",
      "Money if the be the holing the meal\n",
      "I sox theres we fuckie is more time\n",
      "Welled a Beating say to start the suit\n",
      "Cause that a stally bee the so make in the game in the suice to see\n",
      "Plow is so I makin' as so look in the see to this so real the shate the shaing lighter\n"
     ]
    }
   ],
   "source": [
    "print(evaluate(rnn, \"YO wha\", 1000, 0.6))"
   ]
  },
  {
   "cell_type": "code",
   "execution_count": null,
   "metadata": {
    "collapsed": true
   },
   "outputs": [],
   "source": []
  }
 ],
 "metadata": {
  "kernelspec": {
   "display_name": "Python 3",
   "language": "python",
   "name": "python3"
  },
  "language_info": {
   "codemirror_mode": {
    "name": "ipython",
    "version": 3
   },
   "file_extension": ".py",
   "mimetype": "text/x-python",
   "name": "python",
   "nbconvert_exporter": "python",
   "pygments_lexer": "ipython3",
   "version": "3.6.3"
  }
 },
 "nbformat": 4,
 "nbformat_minor": 2
}
