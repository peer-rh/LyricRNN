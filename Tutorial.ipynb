{
 "cells": [
  {
   "cell_type": "markdown",
   "metadata": {},
   "source": [
    "# Character based LSTM, for Generating Music Lyrics in Pytorch\n",
    "\n",
    "This is a Tutorial Notebook, on how you can generate Lyrics based on a genre or an artist or anything you like using pytorch. \n",
    "I will go through getting the data and building and training the LSTM Network. \n",
    "\n",
    "Required Installations are Pytorch, matplotlib, numpy, pandas. I recommend you use conda\n",
    "\n",
    "Some Code from: https://github.com/spro/practical-pytorch/blob/master/char-rnn-generation/char-rnn-generation.ipynb"
   ]
  },
  {
   "cell_type": "markdown",
   "metadata": {},
   "source": [
    "## Getting the data\n",
    "You will have to download the file lyrics.csv from https://www.kaggle.com/gyani95/380000-lyrics-from-metrolyrics and put it in folder data\n",
    "\n",
    "Note: if you have done this one, you can probably skip this Step"
   ]
  },
  {
   "cell_type": "code",
   "execution_count": 26,
   "metadata": {
    "collapsed": true
   },
   "outputs": [],
   "source": [
    "# import pandas for loading csv and preprocessing and np for saving for future access\n",
    "import numpy as np\n",
    "import pandas as pd"
   ]
  },
  {
   "cell_type": "code",
   "execution_count": 27,
   "metadata": {},
   "outputs": [
    {
     "data": {
      "text/html": [
       "<div>\n",
       "<style scoped>\n",
       "    .dataframe tbody tr th:only-of-type {\n",
       "        vertical-align: middle;\n",
       "    }\n",
       "\n",
       "    .dataframe tbody tr th {\n",
       "        vertical-align: top;\n",
       "    }\n",
       "\n",
       "    .dataframe thead th {\n",
       "        text-align: right;\n",
       "    }\n",
       "</style>\n",
       "<table border=\"1\" class=\"dataframe\">\n",
       "  <thead>\n",
       "    <tr style=\"text-align: right;\">\n",
       "      <th></th>\n",
       "      <th>index</th>\n",
       "      <th>song</th>\n",
       "      <th>year</th>\n",
       "      <th>artist</th>\n",
       "      <th>genre</th>\n",
       "      <th>lyrics</th>\n",
       "    </tr>\n",
       "  </thead>\n",
       "  <tbody>\n",
       "    <tr>\n",
       "      <th>0</th>\n",
       "      <td>0</td>\n",
       "      <td>ego-remix</td>\n",
       "      <td>2009</td>\n",
       "      <td>beyonce-knowles</td>\n",
       "      <td>Pop</td>\n",
       "      <td>Oh baby, how you doing?\\nYou know I'm gonna cu...</td>\n",
       "    </tr>\n",
       "    <tr>\n",
       "      <th>1</th>\n",
       "      <td>1</td>\n",
       "      <td>then-tell-me</td>\n",
       "      <td>2009</td>\n",
       "      <td>beyonce-knowles</td>\n",
       "      <td>Pop</td>\n",
       "      <td>playin' everything so easy,\\nit's like you see...</td>\n",
       "    </tr>\n",
       "    <tr>\n",
       "      <th>2</th>\n",
       "      <td>2</td>\n",
       "      <td>honesty</td>\n",
       "      <td>2009</td>\n",
       "      <td>beyonce-knowles</td>\n",
       "      <td>Pop</td>\n",
       "      <td>If you search\\nFor tenderness\\nIt isn't hard t...</td>\n",
       "    </tr>\n",
       "    <tr>\n",
       "      <th>3</th>\n",
       "      <td>3</td>\n",
       "      <td>you-are-my-rock</td>\n",
       "      <td>2009</td>\n",
       "      <td>beyonce-knowles</td>\n",
       "      <td>Pop</td>\n",
       "      <td>Oh oh oh I, oh oh oh I\\n[Verse 1:]\\nIf I wrote...</td>\n",
       "    </tr>\n",
       "    <tr>\n",
       "      <th>4</th>\n",
       "      <td>4</td>\n",
       "      <td>black-culture</td>\n",
       "      <td>2009</td>\n",
       "      <td>beyonce-knowles</td>\n",
       "      <td>Pop</td>\n",
       "      <td>Party the people, the people the party it's po...</td>\n",
       "    </tr>\n",
       "  </tbody>\n",
       "</table>\n",
       "</div>"
      ],
      "text/plain": [
       "   index             song  year           artist genre  \\\n",
       "0      0        ego-remix  2009  beyonce-knowles   Pop   \n",
       "1      1     then-tell-me  2009  beyonce-knowles   Pop   \n",
       "2      2          honesty  2009  beyonce-knowles   Pop   \n",
       "3      3  you-are-my-rock  2009  beyonce-knowles   Pop   \n",
       "4      4    black-culture  2009  beyonce-knowles   Pop   \n",
       "\n",
       "                                              lyrics  \n",
       "0  Oh baby, how you doing?\\nYou know I'm gonna cu...  \n",
       "1  playin' everything so easy,\\nit's like you see...  \n",
       "2  If you search\\nFor tenderness\\nIt isn't hard t...  \n",
       "3  Oh oh oh I, oh oh oh I\\n[Verse 1:]\\nIf I wrote...  \n",
       "4  Party the people, the people the party it's po...  "
      ]
     },
     "execution_count": 27,
     "metadata": {},
     "output_type": "execute_result"
    }
   ],
   "source": [
    "data = pd.read_csv(\"data/lyrics.csv\") # Load the csv in a pandas Dataframe, this may take a while\n",
    "data.head()"
   ]
  },
  {
   "cell_type": "code",
   "execution_count": 28,
   "metadata": {},
   "outputs": [
    {
     "data": {
      "text/plain": [
       "array(['Pop', 'Hip-Hop', 'Not Available', 'Other', 'Rock', 'Metal',\n",
       "       'Country', 'Jazz', 'Electronic', 'Folk', 'R&B', 'Indie'], dtype=object)"
      ]
     },
     "execution_count": 28,
     "metadata": {},
     "output_type": "execute_result"
    }
   ],
   "source": [
    "# Get genres\n",
    "data.genre.unique()"
   ]
  },
  {
   "cell_type": "code",
   "execution_count": 29,
   "metadata": {
    "collapsed": true
   },
   "outputs": [],
   "source": [
    "# I chose Hip-Hop\n",
    "genre = \"Hip-Hop\""
   ]
  },
  {
   "cell_type": "code",
   "execution_count": 30,
   "metadata": {},
   "outputs": [
    {
     "data": {
      "text/html": [
       "<div>\n",
       "<style scoped>\n",
       "    .dataframe tbody tr th:only-of-type {\n",
       "        vertical-align: middle;\n",
       "    }\n",
       "\n",
       "    .dataframe tbody tr th {\n",
       "        vertical-align: top;\n",
       "    }\n",
       "\n",
       "    .dataframe thead th {\n",
       "        text-align: right;\n",
       "    }\n",
       "</style>\n",
       "<table border=\"1\" class=\"dataframe\">\n",
       "  <thead>\n",
       "    <tr style=\"text-align: right;\">\n",
       "      <th></th>\n",
       "      <th>index</th>\n",
       "      <th>song</th>\n",
       "      <th>year</th>\n",
       "      <th>artist</th>\n",
       "      <th>genre</th>\n",
       "      <th>lyrics</th>\n",
       "    </tr>\n",
       "  </thead>\n",
       "  <tbody>\n",
       "    <tr>\n",
       "      <th>249</th>\n",
       "      <td>249</td>\n",
       "      <td>i-got-that</td>\n",
       "      <td>2007</td>\n",
       "      <td>eazy-e</td>\n",
       "      <td>Hip-Hop</td>\n",
       "      <td>(horns)...\\n(chorus)\\nTimbo- When you hit me o...</td>\n",
       "    </tr>\n",
       "    <tr>\n",
       "      <th>250</th>\n",
       "      <td>250</td>\n",
       "      <td>8-ball-remix</td>\n",
       "      <td>2007</td>\n",
       "      <td>eazy-e</td>\n",
       "      <td>Hip-Hop</td>\n",
       "      <td>Verse 1:\\nI don't drink brass monkey, like to ...</td>\n",
       "    </tr>\n",
       "    <tr>\n",
       "      <th>251</th>\n",
       "      <td>251</td>\n",
       "      <td>extra-special-thankz</td>\n",
       "      <td>2007</td>\n",
       "      <td>eazy-e</td>\n",
       "      <td>Hip-Hop</td>\n",
       "      <td>19 muthaphukkin 93,\\nand I'm back in this bitc...</td>\n",
       "    </tr>\n",
       "    <tr>\n",
       "      <th>252</th>\n",
       "      <td>252</td>\n",
       "      <td>boyz-in-da-hood</td>\n",
       "      <td>2007</td>\n",
       "      <td>eazy-e</td>\n",
       "      <td>Hip-Hop</td>\n",
       "      <td>Hey yo man, remember that shit Eazy did a whil...</td>\n",
       "    </tr>\n",
       "    <tr>\n",
       "      <th>253</th>\n",
       "      <td>253</td>\n",
       "      <td>automoblie</td>\n",
       "      <td>2007</td>\n",
       "      <td>eazy-e</td>\n",
       "      <td>Hip-Hop</td>\n",
       "      <td>Yo, Dre, man, I take this bitch out to the mov...</td>\n",
       "    </tr>\n",
       "  </tbody>\n",
       "</table>\n",
       "</div>"
      ],
      "text/plain": [
       "     index                  song  year  artist    genre  \\\n",
       "249    249            i-got-that  2007  eazy-e  Hip-Hop   \n",
       "250    250          8-ball-remix  2007  eazy-e  Hip-Hop   \n",
       "251    251  extra-special-thankz  2007  eazy-e  Hip-Hop   \n",
       "252    252       boyz-in-da-hood  2007  eazy-e  Hip-Hop   \n",
       "253    253            automoblie  2007  eazy-e  Hip-Hop   \n",
       "\n",
       "                                                lyrics  \n",
       "249  (horns)...\\n(chorus)\\nTimbo- When you hit me o...  \n",
       "250  Verse 1:\\nI don't drink brass monkey, like to ...  \n",
       "251  19 muthaphukkin 93,\\nand I'm back in this bitc...  \n",
       "252  Hey yo man, remember that shit Eazy did a whil...  \n",
       "253  Yo, Dre, man, I take this bitch out to the mov...  "
      ]
     },
     "execution_count": 30,
     "metadata": {},
     "output_type": "execute_result"
    }
   ],
   "source": [
    "# eliminate all non genre results\n",
    "data = data.loc[data.genre == genre]\n",
    "data.head()"
   ]
  },
  {
   "cell_type": "code",
   "execution_count": 31,
   "metadata": {},
   "outputs": [
    {
     "name": "stdout",
     "output_type": "stream",
     "text": [
      "1000volts, 112, 18, 1982, 1982-termanology-and-statik-selektah, 2-chainz, 2-chainz-wiz-khalifa, 2-live-crew, 2-live-jews, 2-pistols, 21-savage, 213, 22-savage, 257ers, 2much, 2nd-ii-none, 2pac, 2pac-outlawz, 2win, 30h3, 31st-century, 360, 3d, 3plusss, 3rd-bass, 40-cal, 40-glocc, 40winks, 44g, 4real, 4th-avenue-jones, 4th-pyramid, 5-mic-z, 5-sterne-deluxe, 50-cent, 504-boyz, 60-east, 600breezy, 69-boyz, 6lack, 7-days-of-funk, 7-profitz, 704, 8-ball, 8ightball, 931blackboy, 99-posse, 9th-wonder, a, a-ap-ant, a-b, a-boogie, a-chal, a-f-r-o, a-game, a-k-s-w-i-f-t, a-m-sniper, a-mafia, a-p, a-trak, a-villa, a-wax, aaries, aaron-cartier, aaron-knight, aaron-smith, aasim, ab-soul, abd-al-malik, abica, abidaz, abk, abn, above-the-law, absolute, absolute-beginner, abstract-rude, ace-hood, aceyalone, acro-jazz-laboratories, action-bronson, acts-29, ad-sorry-jaynari, adam-tensta, adamn-killa, add-2, adeaze, adian-coker, adina-howard, aer, aesop-rock, afasi-filthy, afrika-bambaataa, afroman, after-the-smoke, afu-ra, ag-da-coroner, aggro, aggro-berlin, agust-d, agustus-thelefant, ahi, ahmad, ahmir, ai-otsuka, aj-tracey, ajs-nigrutin, ajs-nigrutin-bvana, akala, akhenaton, akinyele, akwid, al-doe, albe-back, aldo, ale-jhay, aleister-x, aleon-craft, alex-sandunga, alex-wiley, alexis-y-fido, ali, ali-g, ali-gipp, alia-zin, alias, alicia-bay-laurel, alkpote, allan-kingdom, allday, allen-iverson, alley-boy, alligatoah, aloe-blacc, alpoko-don, alx-r, amanda-blank, amanda-cook, amanda-diva, ambassador, american-yard, amg, amil, amir, ammbush, amo, ana-baby, ana-tijoux, analog-brothers, anamanaguchi, anden, anderson-paak, andrae-crouch, andre-3000, andre-crouch, andre-legacy, andre-merritt, andre-nickatina, andrew-e, andy-iman, andy-milonakis, andy-mineo, angel-haze, angel-khriz, angeline-quinto, angelo-mota, angie-martinez, animal-cannibals, annakin-slayd, another-bad-creation, anselmo-ralph, ant-banks, anthony-evans, antoine-dodson, antwon, anuel-aa, anybody-killa, aoi-teshima, apl-de-ap, apollo-brown, apollo-the-great, araabmuzik, arab, archie-bang, architekt, ari, ariez-onasis, aro, arrested-development, arsonists, asa, asaad, asap-ferg, asap-lotto, asap-mob, asap-nast, asap-rocky, asco-jones, asher-roth, ashley-walters, ashmont-hill, ashoka, asia-nitollano, asiah-dio, asian-dub-foundation, aspektz, astal, aston-matthews, astro-aka-the-astronomical-kid, astroid-boys, astronautalis, at, atmosphere, atozzio, attitude, atumpan, atypical, audio-bullys, audio-push, audio-two, audra-lynn, austin-millz, authentic-sounds, automator, avant, avery-storm, aviation, awar, awkword, axe-murder-boys, axl-smith, az, az-the-visualiza, azad-right, azealia-banks, azee, aziatix, azizi-gibson, b-breaks, b-g, b-g-knocc-out, b-iousha, b-legit, b-leza, b-mac, b-martin, b-o-b, b-real, b-tight, baauer, baba, babaman, babeo-baggins, baby-aka-the-1-stunna, baby-blue, baby-blue-soundcrew, baby-boy, baby-boy-da-prince, baby-d, baby-k, baby-rasta, baby-rasta-y-gringo, babycham, babyfather, backburner, bad-azz, bad-boy-s-da-band, bad-meets-evil, bad-spit, badbadnotgood, badministrator, baek-ji-young, bahamadia, bailey, baiyu, baka-boyz, bali, bandit-gang-marco, bandomoss, bangladesh, bangloose, bankroll-mafia, banks-steelz, barikad-crew, bars-and-melody, bas, basby, bashy, bathgate, bay-swag, bayje, baze, bbod, be-me, beanie-man, beanie-sigel, beast-1333, beastie-boys, beatnuts, beautiful-eulogy, bee, beedie, beenie-man, beginner, bell-biv-devoe, ben-blackwell, ben-j, benefit, benin-city, benjamin-bear, bennib, benzino, beogradski-sindikat, berner, bernz, bethel-live, bethel-music, betty-ford-boys, beverly-crawford, bezz-believe, bg-knocc-out-dresta, bianca-bonnie, big-ali, big-baby-gandhi, big-bank-black, big-boi, big-d, big-daddy-kane, big-ed, big-freedia, big-gipp, big-h, big-k-r-i-t, big-kuntry-king, big-l, big-lean, big-lou, big-mike, big-moe, big-noyd, big-o, big-pokey, big-pooh, big-pun, big-punisher, big-rob, big-sant, big-scoob, big-sean, big-smo, big-timers, big-tuck, big-twan, big-tymers, biga-ranx, bigflo-oli, bike-for-three, bikstok-ra-gsystem, bil-basmala, billard, billy-blue, billy-griffin, binary-star, binky-bandz, bino-rideaux, bio-killaz, birdman, birdman-mack-maine, birdy-nam-nam, bishop-lamont, bishop-nehru, bishop-paul-s-morton, bitza, biz-markie, bizarre, bizzy-bone, bizzy-crook, bizzy-montana, black-alien, black-buddafly, black-cobain, black-dave, black-el, black-eyed-peas, black-frost, black-hippy, black-milk, black-money, black-moon, black-nasty, black-rob, black-sheep, black-thought, blackalicious, blackstreet, blade, bladee, blake-banks, blaq-poet, blaqstarr, blastah-beatz, blastermann, blaze-ya-dead-homie, blended-babies, bleu-davinci, bligg, bliss-n-eso, blockboys, blood-diamonds, blood-raw, bloody-jay, blu, blu-exile, blu-fate, blu-nottz, blue-sky-black-death, blueprint, blumentopf, blvd-marc, bmac-the-queen, bo-deal, bob-da-rage-sense, bobby-brackins, bobby-creekwater, bobby-shmurda, bobby-v, bobby-valentino, bobbyxl, bobo-norco, boca-floja, bodega-bamz, boldy-james, bondan-prakoso, bone-brothers, bone-crusher, bone-thugs, bone-thugs-n-harmony, bones, bonez-mc, boo-rossini, booba, boofboiicy, boogie, boogie-down-productions, boogiemonsters, boogz-boogetz, boom-shaka, boondox, boot-camp-clik, born-jamericans, boss, boss-hogg-outlawz, bounty-killer, bouwer-bosch, bow-wow, boy-wonder, boyz-n-da-hood, bozack-morris, brad-neely, brand-nubian, brandon-jarod, brandon-vee, brasstracks, brav, bravehearts, break-science, brenton, brian-doerksen, brian-fresco, brianna-perry, bricc-baby, bridget-kelly, brigitte, brihang, brisco, broken, brokencyde, brooke-candy, brooke-valentine, brotha-lynch-hung, brother-ali, brown-boy, brown-intentions, bryan-duncan, bryant-dope, bryant-myers, bryson-tiller, bubba-sparxxx, buck-22, buck-65, buckmouth, buckshot, buckshot-lefonque, buddha-monk, bug-mafia, bugatti-boyz, bullion, bully, bumpy-knuckles, bun-b, burberry-perry, busdriver, bushido, busta-rhymes, butch-clancy, bwa-kane, byron-bank, c-dot-castro, c-murder, c-plus, c-rayz-walz, c-rico, c-side, c2c, ca-h-money-click, ca-hflow, cadillac-don-j-money, caleborate, calez, cali-life-style, cali-swag-district, califa-thugs, califonia-swag-district, california-swag-district, calikidd, calle-13, cam-meekins, cam-ron, cam-wallace, camel-power-club, cameron-dallas, cameron-grey, camoflauge, camp-lo, can-t-stop-won-t-stop, cana, candace-jones, candy-hill, candy-rain, canibus, cannibal-ox, canton-jones, cap-1, capital-b, capital-steez, capone, capone-n-noreaga, cappadonna, captain-murphy, carla-s-dreams, cartel-de-santa, cartie, cartier-kitten, casa-degli-specchi, case, casey-veggies, cash-out, cashis, cashius-green, cashmere-cat, cashtastic, casper, cassidy, cassow, castro, casual, cato, caught-a-ghost, cazwell, cee-lo, ceej, celly-cel, ces-cru, ceza, chad-b, chadd-mcclain, chakuza-raf-camora, chamillionaire, chance-waters, chancellor-warhol, charles-billingsley, charles-hamilton, charli-baltimore, charlie-hustle, chasing-destiny, chaundon, chaz-french, cheek, cheka, cherish, cherlise, chevy-woods, chicago-santana, chico-coolwadda, chico-debarge, chiddy-bang, chief-keef, childish-gambino, children-of-distance, china-mac, chinese-man, chingo-bling, chingy, chino-xl, chinx, chinx-drugz, chip, chip-tha-ripper, chip-the-ripper, chipmunk, choclair, chocolate-droppa, chocquibtown, choklate, choo-jackson, chris-brown, chris-crack, chris-geo, chris-j, chris-miles, chris-porter, chris-rivers, chris-styles, chris-travis, chris-webby, chrisco, chrishan, christon-gray, christy-nockels, chubbie-baby, chubby-jag, chuck-inglish, chuck-strangers, chutzpah, chuuwee, chynaman, cinos, circle-of-tyrants, ciro, cisco-adler, cities-aviv, city-high, cj, cj-flemings, cj-fly, clam-casino, clams-casino, clap-clap, classified, clementino, clinton-sparks, clipping, clipse, club-dogo, clueso, clyde-carson, cobe-obeah, cocaine-80-s, cocoa-brovaz, cocoa-sarai, coely, coffey-anderson, cold-187um, cold-flamez, colle-der-fomento, college-boyz, collie-buddz, colt-ford, common, common-john-legend, common-sense, company-flow, compton-menace, compton-s-most-wanted, conecrew, conecrewdiretoria, conejo, connie-price-the-keystones, consequence, contact-play, contrast, control-machete, cook-laflare, cookie-money, cool-breeze, cool-calm-pete, coolio, coolshit, copywrite, corason-the-great, cordell-francis, corey-latif-williams, cormega, corner-boy-p, corporate-lo-fi, correy-c, corte-ellis, cory-asbury, cory-gunz, cory-mo, cory-rhymal, cosculluela, countdown-kids, courtney, cousin-fik, cousin-stizz, cowboy-troy, cozz, cr7z, craig-mack, craig-xen, crave-uk, crazy-titch, creative-gold, crime-mob, criolo, crishan, criss-blaziny, cristyle, cro, crooked-i, crowder, crown-bella, crs, cru, crucial-conflict, cruzito, cuban-link, cunninlynguists, cupcakke, cupid, curren-y, curse, curtis-young, cut-chemist, cya, cyhi-da-prynce, cyhi-the-prynce, cymphonique, cyne, cypher-clique, cypress-hill, cyrus-deshield, cyssero, czarface, d-12, d-bo, d-double-e, d-i-t-c, d-jaysremm, d-lo, d-mac, d-moe, d-money-pros, d-nice, d-o-e, d-prosper, d-pryde, d-rock, d-sisive, d-unit, d-why, d2e, d4l, da-backwudz, da-beatminerz, da-brat, da-entourage, da-grym-reefer, da-lench-mob, da-luniz, da-mafia-6ix, da-t-r-u-t-h, da-youngfellaz, da-youngsta-s, daddy-dinero, daddy-freddy, daddy-yankee, dae-dae, daforce, dag-savage, daily-meds, dale-cornish, damani, dame-d-o-l-l-a, damez, damian-jr-gong-marley, damian-junior-gong-marley, damian-marley, damu-the-fudgemunk, dan-bremnes, dan-bull, danger-doom, danger-mouse, danger-mouse-and-jemini, daniel-calveti, daniel-ingram, danja-mowf, danni-toma, danny-brown, danny-fernandes, danny-seth, dano, danse, dante-beckford, daoko, dappy, darlene-zschech, darnell-robinson, darnell-williams, darrell-evans, darthreider, daryl-coley, das-efx, dash-flash, dat-adam, dat-boy, dave-b, dave-east, dave-young, davee, david-banner, david-dallas, davinche, davion-farris, davis, day, daye-jack, dayton-family, daz-dillinger, daz-woods, dblcrss, dc-young-fly, dcaelek, de-jeugd-van-tegenwoordig, de-la-ghetto, de-la-soul, de-lcaeb, deach, dead-celebrity-status, dead-prez, deal-pacino, dealema, death-grips, dee-1, dee-goodz, deemah, deen-burbigo, deep, deep-side, deez-nuts, def-jef, def-manic, def-squad, defari, defekt, deichkind, deine-freunde, del, del-tha-funkee-homosapien, del-the-funky-homosapien, delasean, delinquent-habits, dellafuente, dels, deltron, deltron-3030, dem-franchize-boyz, dem-hoodstarz, demarco, denaun, denaun-porter, deniro, deniro-farrar, denyo, denzel-curry, deonte, der-plot, derek-minor, derek-pope, derek-wise, derrick-milano, desiigner, dessa, destorm, detail, deuce, devin-the-dude, devine-carama, devonwho, dewayne-woods, dex, dexter, dez, dezert-eez, diafrix, diamond-and-the-psychotic-neurotics, dice-raw, dice-soho, diddy, die-antwoord, die-fantastischen-vier, die-firma, digable-planets, digga, diggy, diggy-dex, diggy-simmons, digital-underground, diirty-ogz, dilated-peoples, dillon-cooper, dinos-punchlinovic, diplo, diplomats, dipset, dirt-nasty, dirty-money, dirtyface-smook, disiz, disko, disturbing-tha-peace, divine-brown, dizraeli-the-small-gods, dizzee-rascal, dizzy-wright, dj-abdel, dj-absolut, dj-battle, dj-carnage, dj-casper, dj-chose, dj-class, dj-clue, dj-concept, dj-cut-killer, dj-drama, dj-drez, dj-efn, dj-envy, dj-esco, dj-felli-fel, dj-fly-guy, dj-green-lantern, dj-haze, dj-hi-tek, dj-hollywood, dj-honda, dj-ill-will, dj-jazzy-jeff, dj-jazzy-jeff-the-fresh-prince, dj-kayslay, dj-khaled, dj-kool, dj-kridlokk, dj-krush, dj-laz, dj-manipulator, dj-muggs, dj-pain-1, dj-paul, dj-pharris, dj-pone, dj-premier-bumpy-knuckles, dj-quik, dj-rebel, dj-sancho, dj-scream, dj-self, dj-shadow, dj-skee, dj-snake, dj-snake-lil-jon, dj-spinatik, dj-spinking, dj-spinna, dj-suss-one, dj-tony-touch, dj-twin, dj-u-neek, dj-vadim, dj-webstar, dj-whoo-kid, djas, dk, dl-incognito, dmx, doc-brown, doc-gyneco, doe-b, doe-boy, dohzi-t, dok2, doley-bernays, dolla, dom-kennedy, dom-mclennon, dom-pachino, domani-harris, dominic-balli, dominique-de-beau, dominique-young-unique, domino, dominoe-ch-yea, domo-genesis, don-benjamin, don-johnson-big-band, don-martin, don-moen, don-omar, don-omar-lucenzo, don-p, don-trip, donaeo, donald-lawrence, donatan-cleo, donato, donchristian, donmonique, donnie-trumpet, donnis, donny-goines, doom, dope-boy, dope-d-o-d, dopetrackz, doppelkopf, "
     ]
    },
    {
     "name": "stdout",
     "output_type": "stream",
     "text": [
      "dorian-concept, dorrough, dorrough-music, dose-one, dosseh, dottie-peoples, double-life, doubleswee, doughboyz-cashout, dougie-f, down-with-webster, dpg, dr-dooom, dr-dre, dr-octagon, dr-who-dat, drag-on, drake, drapht, dre, dre-dog-andre-nickatina, dream-warriors, dred-scott, dreezy, drei-ros, drevo-coolidge, drew-deezy, drew-sidora, driicky-graham, dro, droop-e, dru-hill, drumma-boy, drunken-tiger, dtweezer, dub-fx, dub-phizix, dubb, dubmatique, ducko-mcfli, duckwrth, dumbfoundead, dumbfounded, dungeon-family, dunson, durag-dynasty, durrty-goodz, dusty-mcfly, dvsn, dy, dyablo, dyme-a-duzin, e-40, e-40-too-short, e-a-ski, e-dog, e-dubble, e-jake, eaggerstunn, earl-sweatshirt, earthling, east, easy-mo-bee, eazy-e, ebony-eyez, ecco2k, echo, ed-o-g, ed-sheeran-yelawolf, edai, edan, eddie-b, eddie-james, eddie-writer, eddy-baker, edo-maajka, edorf, edward-chen, ege-rubukrngu, egyptian-lover, eightball-mjg, eighty4-fly, eins-zwo, el-general, el-lapiz-conciente, el-p, elastinen, eldo, eldorado-red, elemental, elephant-man, eliacim, ella-chen, ella-mai, elokuu, elzhi, emanero, emanny, emex, emicida, emilio-rojas, eminem, eminem-d12, emis-killa, emm, emmune, emp, empire-cast, en-gma, encore, english-frank, entrelineas, enzo-ikah, eoghan-heaslip, epic-rap-battles-of-history, epmd, eppic, erfan, eric-b-rakim, eric-lau, erick-arc-elliott, erick-sermon, ericka-june, erik-og-kriss, erk-tha-jerk, ernie-haase-signature-sound, esham, ess-vee, esta, estelle, ester-dean, ethan-sacii, euphonik, euro, eva-maria, eve, evian-christ, evidence, evil-nine, evrythingmick, example, express-rising, eyedea, eyedea-abilities, eyenine, eypio, eyshila, f-virtue, fabio-rovazzi, fabo, fabolous, fabri-fibra, faceoff, faf-larage, fama, famous, famous-dex, far-east-movement, fashawn, fast-life-youngstaz, fat-boys, fat-joe, fat-jon, fat-nick, fat-trel, fatkidsbrotha, fatman-scoop, fatty-koo, fctznf-sterne-deluxe, fe-tha-don, federation, fedez, fekky, felix-krull, felli-fel, feloni, fenix, ferris-mc, fettes-brot, fetty-wap, fg, field-mob, fiend-cookin-soul, filastine, final-outlaw, finale, finding-novyon, fintelligens, fire-camp, first-degree, first-serve, flashmaster-ray, flatbush-zombies, flatlinerz, flavor-flav, flawless-real-talk, fler, flesh-n-bone, flight-school, flip-major, flipmode-squad, flo-cole, flo-rida, flobots, floetics, floetry, flosstradamus, flow-rida, flowboysfam, flowklorikos, flowz, fluent, fly-society, fly-street-gang, flying-lotus, forch-fabalon, forever-jones, fowl, foxal, foxy-brown, frank-ccean, frank-nitt, frank-t, frankie-smith, frauenarzt-manny-marc, frayser-boy, freak-nasty, freck-billionaire, fred-de-palma, fred-money, fred-the-godson, freddie-foxxx, freddie-gibbs, freddy-p, fredo-santana, fredro-starr, free-ackrite, free-chapel, freekey-zekey, freestyle, freeway, freeze, french-montana, french-montana-coke-boys, frenchie, fresh-linen, freundeskreis, frits, fronda, fu-schnickens, fugative, funk-volume, funkdoobiest, funkmaster-flex, funky-family, furthermore, future, future-allah, future-atl, future-brown, future-gucci-mane, futuristic, g-boyz, g-dep, g-eazy, g-fellas, g-frsh, g-g-sindikatas, g-mo-skee, g-o-o-d-music, g-perico, g4-boyz, g4shi, gabriel-antonio, gabriel-o-pensador, gagle, game, gangrene, gangsta-blac, gangsta-boo, gangsta-pat, gangstagrass, gangstarr, gappy-ranks, garscon, gary-chapman, gasoline, gee-wunder, gemello, gemini, gemitaiz, gemitaiz-madman, gemstones, general-knas, general-larry-platt, general-steele, general-woo, general-woo-nered, genetikk, gensu-dean, gentleman-s-dub-club, george-reefah, george-the-poet, george-watsky, georgia-anne-muldrow, georgio, gers-pardoel, geto-boys, ghali, ghetts, ghost-town-djs, ghostface-killah, ghostpoet, ghostwridah, gia-medley, gianni, gibsai-santos, giggs, gilbere-forte, gilles, gillie-da-kid, gina-rene, gino, gino-marley, ginuwine, gio-dee, girl-talk, git-fresh, glasses-malone, glc, gloc9, gnarls-barkley, go-dav, god-des-and-she, goin-through, gold-1, gold-top, golden-features, golden-rules, goldie-lookin-chain, goldie-the-gasman, good-belt-gang, goodfellaz, goodie-mob, gorilla-warfare-tactics, gorilla-zoe, gospel-gangstas, gospel-gangstaz, governor, gp-wu, gradur, grafh, gramatik, grand-puba, grande-marshall, grandmaster-flash, grandtheft, grannies-smoking-pipes, grasu-xxl, gravediggaz, great-dane, the-bangz, the-buttress, the-california-raisins, the-celebration-choir, the-chicharones, the-chipmunks, the-clark-sisters, the-click, the-come-up, the-constellations, the-cool-kids, the-coup, the-cross-movement, the-d-o-c, the-disposable-heroes-of-hiphoprisy, the-dnc, the-doppelgangaz, the-dove-shack, the-foreign-exchange, the-fugees, the-gift-of-gab, the-glitch-mob\n"
     ]
    }
   ],
   "source": [
    "# show all artists in chronological order\n",
    "print(*data.artist.sort_values().unique(), sep= \", \") # To show all artist"
   ]
  },
  {
   "cell_type": "code",
   "execution_count": 32,
   "metadata": {
    "collapsed": true
   },
   "outputs": [],
   "source": [
    "# Those are really much artists, we need to elliminate some, because thay maybe \n",
    "# sing in a nother language like Deichkind or some other reason, I chose\n",
    "artists = \"\"\"blackstreet compton-s-most-wanted diddy dj-jazzy-jeff-the-fresh-prince dr-dre eazy-e eminem \n",
    "             the-d-o-c the-fugees 2pac 50-cent beastie-boys\"\"\".split()"
   ]
  },
  {
   "cell_type": "code",
   "execution_count": 33,
   "metadata": {},
   "outputs": [
    {
     "data": {
      "text/html": [
       "<div>\n",
       "<style scoped>\n",
       "    .dataframe tbody tr th:only-of-type {\n",
       "        vertical-align: middle;\n",
       "    }\n",
       "\n",
       "    .dataframe tbody tr th {\n",
       "        vertical-align: top;\n",
       "    }\n",
       "\n",
       "    .dataframe thead th {\n",
       "        text-align: right;\n",
       "    }\n",
       "</style>\n",
       "<table border=\"1\" class=\"dataframe\">\n",
       "  <thead>\n",
       "    <tr style=\"text-align: right;\">\n",
       "      <th></th>\n",
       "      <th>index</th>\n",
       "      <th>song</th>\n",
       "      <th>year</th>\n",
       "      <th>artist</th>\n",
       "      <th>genre</th>\n",
       "      <th>lyrics</th>\n",
       "    </tr>\n",
       "  </thead>\n",
       "  <tbody>\n",
       "    <tr>\n",
       "      <th>249</th>\n",
       "      <td>249</td>\n",
       "      <td>i-got-that</td>\n",
       "      <td>2007</td>\n",
       "      <td>eazy-e</td>\n",
       "      <td>Hip-Hop</td>\n",
       "      <td>(horns)...\\n(chorus)\\nTimbo- When you hit me o...</td>\n",
       "    </tr>\n",
       "    <tr>\n",
       "      <th>250</th>\n",
       "      <td>250</td>\n",
       "      <td>8-ball-remix</td>\n",
       "      <td>2007</td>\n",
       "      <td>eazy-e</td>\n",
       "      <td>Hip-Hop</td>\n",
       "      <td>Verse 1:\\nI don't drink brass monkey, like to ...</td>\n",
       "    </tr>\n",
       "    <tr>\n",
       "      <th>251</th>\n",
       "      <td>251</td>\n",
       "      <td>extra-special-thankz</td>\n",
       "      <td>2007</td>\n",
       "      <td>eazy-e</td>\n",
       "      <td>Hip-Hop</td>\n",
       "      <td>19 muthaphukkin 93,\\nand I'm back in this bitc...</td>\n",
       "    </tr>\n",
       "    <tr>\n",
       "      <th>252</th>\n",
       "      <td>252</td>\n",
       "      <td>boyz-in-da-hood</td>\n",
       "      <td>2007</td>\n",
       "      <td>eazy-e</td>\n",
       "      <td>Hip-Hop</td>\n",
       "      <td>Hey yo man, remember that shit Eazy did a whil...</td>\n",
       "    </tr>\n",
       "    <tr>\n",
       "      <th>253</th>\n",
       "      <td>253</td>\n",
       "      <td>automoblie</td>\n",
       "      <td>2007</td>\n",
       "      <td>eazy-e</td>\n",
       "      <td>Hip-Hop</td>\n",
       "      <td>Yo, Dre, man, I take this bitch out to the mov...</td>\n",
       "    </tr>\n",
       "  </tbody>\n",
       "</table>\n",
       "</div>"
      ],
      "text/plain": [
       "     index                  song  year  artist    genre  \\\n",
       "249    249            i-got-that  2007  eazy-e  Hip-Hop   \n",
       "250    250          8-ball-remix  2007  eazy-e  Hip-Hop   \n",
       "251    251  extra-special-thankz  2007  eazy-e  Hip-Hop   \n",
       "252    252       boyz-in-da-hood  2007  eazy-e  Hip-Hop   \n",
       "253    253            automoblie  2007  eazy-e  Hip-Hop   \n",
       "\n",
       "                                                lyrics  \n",
       "249  (horns)...\\n(chorus)\\nTimbo- When you hit me o...  \n",
       "250  Verse 1:\\nI don't drink brass monkey, like to ...  \n",
       "251  19 muthaphukkin 93,\\nand I'm back in this bitc...  \n",
       "252  Hey yo man, remember that shit Eazy did a whil...  \n",
       "253  Yo, Dre, man, I take this bitch out to the mov...  "
      ]
     },
     "execution_count": 33,
     "metadata": {},
     "output_type": "execute_result"
    }
   ],
   "source": [
    "# drop all artists, that you do not want\n",
    "data = data[data[\"artist\"].isin(artists)]\n",
    "data = data.dropna()\n",
    "data.head()"
   ]
  },
  {
   "cell_type": "code",
   "execution_count": 23,
   "metadata": {},
   "outputs": [
    {
     "name": "stdout",
     "output_type": "stream",
     "text": [
      "['eazy-e' '50-cent' 'blackstreet' '2pac' 'compton-s-most-wanted'\n",
      " 'the-d-o-c' 'diddy' 'dr-dre' 'the-fugees' 'beastie-boys' 'eminem'\n",
      " 'dj-jazzy-jeff-the-fresh-prince']\n"
     ]
    }
   ],
   "source": [
    "print(data.artist.unique())"
   ]
  },
  {
   "cell_type": "code",
   "execution_count": 34,
   "metadata": {},
   "outputs": [],
   "source": [
    "# Save the Lyrics, to in future being able to skip these Steps\n",
    "data = data.lyrics.values\n",
    "np.save(\"data/data.npy\", data)"
   ]
  },
  {
   "cell_type": "markdown",
   "metadata": {},
   "source": [
    "## Prepare for training\n",
    "\n",
    "This is where we will prepare for training our model. This includes A Dictionary for converting id to character and character to id and defing helper functions regarding data."
   ]
  },
  {
   "cell_type": "code",
   "execution_count": 35,
   "metadata": {
    "collapsed": true
   },
   "outputs": [],
   "source": [
    "import random # for random chunk"
   ]
  },
  {
   "cell_type": "code",
   "execution_count": 36,
   "metadata": {
    "collapsed": true
   },
   "outputs": [],
   "source": [
    "# We built a dictionary class to store our character to idx and vice versa\n",
    "\n",
    "class Dictionary:\n",
    "    def __init__(self):\n",
    "        self.char2idx = {}\n",
    "        self.idx2char = []\n",
    "\n",
    "    def add_char(self, char):\n",
    "        if char not in self.char2idx:\n",
    "            self.idx2char.append(char)\n",
    "            self.char2idx[char] = len(self.idx2char) - 1\n",
    "        return self.char2idx[char]\n",
    "    \n",
    "    def save_vals(self):\n",
    "        np.save(\"data/dict_idx2char.npy\", self.idx2char)\n",
    "        np.save(\"data/dict_char2idx.npy\", self.char2idx)\n",
    "    \n",
    "    def __len__(self):\n",
    "        return len(self.idx2char)"
   ]
  },
  {
   "cell_type": "code",
   "execution_count": 37,
   "metadata": {
    "collapsed": true
   },
   "outputs": [],
   "source": [
    "# define dictionary and some hyper parameters\n",
    "dictionary = Dictionary()\n",
    "chunk_len = 200 # chunk len is on how much data the LSTM should use per epoch on traing"
   ]
  },
  {
   "cell_type": "code",
   "execution_count": 38,
   "metadata": {
    "collapsed": true
   },
   "outputs": [],
   "source": [
    "data = np.load(\"data.npy\") # Load the data\n",
    "data = np.array([a for a in data if len(a) > chunk_len+1]) # Only use lyrics which are longer than the chunk_len\n",
    "\n",
    "# Add all characters to Dictionary\n",
    "for lyrics in data:\n",
    "    for i in lyrics:\n",
    "        dictionary.add_char(i)\n",
    "\n",
    "dictionary.save_vals() # Save for future use"
   ]
  },
  {
   "cell_type": "code",
   "execution_count": 40,
   "metadata": {},
   "outputs": [
    {
     "name": "stdout",
     "output_type": "stream",
     "text": [
      "{'(': 0, 'h': 1, 'o': 2, 'r': 3, 'n': 4, 's': 5, ')': 6, '.': 7, '\\n': 8, 'c': 9, 'u': 10, 'T': 11, 'i': 12, 'm': 13, 'b': 14, '-': 15, ' ': 16, 'W': 17, 'e': 18, 'y': 19, 't': 20, 'p': 21, 'a': 22, 'k': 23, 'w': 24, ',': 25, 'l': 26, 'd': 27, 'H': 28, '!': 29, 'g': 30, 'I': 31, '?': 32, 'f': 33, 'v': 34, '1': 35, 'L': 36, 'E': 37, 'z': 38, \"'\": 39, 'G': 40, 'K': 41, 'M': 42, 'B': 43, 'S': 44, 'j': 45, 'D': 46, 'x': 47, 'C': 48, 'N': 49, 'R': 50, '2': 51, 'V': 52, 'A': 53, 'O': 54, ':': 55, ']': 56, 'Y': 57, '3': 58, 'F': 59, '8': 60, 'q': 61, 'P': 62, '4': 63, '0': 64, '5': 65, '\"': 66, 'J': 67, '9': 68, '6': 69, 'U': 70, '+': 71, '@': 72, '{': 73, '*': 74, 'X': 75, '}': 76, 'Q': 77, '[': 78, 'Z': 79, '&': 80, '7': 81, '>': 82, '`': 83, '/': 84, '\\x7f': 85, '%': 86, ';': 87, '_': 88, '\\t': 89, 'Ã': 90, '©': 91, '#': 92, '~': 93, 'ï': 94, '»': 95, '¿': 96, '$': 97, '=': 98, '±': 99, '¢': 100, 'â': 101, '\\x84': 102, '\\x83': 103, 'Â': 104, '¡': 105, '\\x80': 106, '\\x9e': 107, '¨': 108, '^': 109, '¦': 110, '£': 111, '\\x94': 112, '³': 113, '¼': 114, '²': 115, '\\x99': 116, '¤': 117}\n"
     ]
    }
   ],
   "source": [
    "print(dictionary.char2idx) # most of them wont be used"
   ]
  },
  {
   "cell_type": "code",
   "execution_count": 42,
   "metadata": {},
   "outputs": [
    {
     "name": "stdout",
     "output_type": "stream",
     "text": [
      "a hold my hand mister!\n",
      "Prentend she's your little sister, little sister,\n",
      "Prony little dickta(?),\n",
      "Might aswell take a whipped cream with ya,\n",
      "And when you see her make sure you get a picture,\n",
      "We could tr\n"
     ]
    }
   ],
   "source": [
    "# for training we define a function which randomly samples a passage out of our lyrics with character len chunk_len\n",
    "\n",
    "def random_chunk():\n",
    "    lyrics = data[np.random.randint(0, len(data))]\n",
    "    start_index = random.randint(0, len(lyrics) - chunk_len)\n",
    "    end_index = start_index + chunk_len + 1\n",
    "    return lyrics[start_index:end_index]\n",
    "\n",
    "print(random_chunk())"
   ]
  },
  {
   "cell_type": "markdown",
   "metadata": {},
   "source": [
    "## Build the Model\n",
    "\n",
    "Now comes the fun part. We will be building our model. It is an LSTM model. That's almost all there's to it"
   ]
  },
  {
   "cell_type": "code",
   "execution_count": 43,
   "metadata": {
    "collapsed": true
   },
   "outputs": [],
   "source": [
    "# import torch\n",
    "import torch\n",
    "import torch.nn as nn\n",
    "from torch.autograd import Variable"
   ]
  },
  {
   "cell_type": "code",
   "execution_count": 44,
   "metadata": {
    "collapsed": true
   },
   "outputs": [],
   "source": [
    "class RNN(nn.Module):\n",
    "    def __init__(self, input_size, hidden_size, output_size, n_layers=1):\n",
    "        super(RNN, self).__init__()\n",
    "        self.input_size = input_size\n",
    "        self.hidden_size = hidden_size\n",
    "        self.output_size = output_size\n",
    "        self.n_layers = n_layers\n",
    "        \n",
    "        self.encoder = nn.Embedding(input_size, hidden_size) # This is the encoding layer\n",
    "        self.lstm = nn.LSTM(hidden_size, hidden_size, n_layers) # if you want a standard RNN use nn.GRU instead of nn.LSTM\n",
    "        self.decoder = nn.Linear(hidden_size, output_size) # and this decodes the out from the lstm to a character prediction\n",
    "    \n",
    "    def forward(self, input, hidden):\n",
    "        input = self.encoder(input.view(1, -1)) # at first we pass the input throught the encoder\n",
    "        output, hidden = self.lstm(input.view(1, 1, -1), hidden) # then through the lstm\n",
    "        output = self.decoder(output.view(1, -1)) # And then through the the decoder\n",
    "        return output, hidden # We need to store the hidden for future use\n",
    "\n",
    "    def init_hidden(self):\n",
    "        # If you're using GRU, delete the 2\n",
    "        return Variable(torch.zeros(2, self.n_layers, 1, self.hidden_size)) # This just is the first hidden \n",
    "                                                                            # which gets pat in the Network\n",
    "        "
   ]
  },
  {
   "cell_type": "markdown",
   "metadata": {},
   "source": [
    "## Defining helper functions for training\n",
    "In this step were right before being able to traing our Model. We will built an function for getting data which will be able to be interpred by the machine, a training and a function for evaluating the network"
   ]
  },
  {
   "cell_type": "code",
   "execution_count": 45,
   "metadata": {},
   "outputs": [
    {
     "name": "stdout",
     "output_type": "stream",
     "text": [
      "tensor([22, 14,  9, 46, 37, 59])\n"
     ]
    }
   ],
   "source": [
    "# These functions convert random_chunk to numerical data and inputs and targets. First of all we will need a \n",
    "# function to convert to numbers\n",
    "\n",
    "def char_tensor(string):\n",
    "    tensor = torch.zeros(len(string)).long() # just gives a Starting point\n",
    "    for c in range(len(string)):\n",
    "        tensor[c] = dictionary.char2idx[string[c]] # uses our dictionary to convert the character to numbers and \n",
    "                                                   # puts it in out tensor\n",
    "    return Variable(tensor)\n",
    "\n",
    "print(char_tensor('abcDEF'))"
   ]
  },
  {
   "cell_type": "code",
   "execution_count": 46,
   "metadata": {
    "collapsed": true
   },
   "outputs": [],
   "source": [
    "# This combines char_tensor and random_chunk to one function\n",
    "\n",
    "def random_training_set():    \n",
    "    chunk = random_chunk()\n",
    "    inp = char_tensor(chunk[:-1]) # inputs for training function\n",
    "    target = char_tensor(chunk[1:]) # targets for training function\n",
    "    return inp, target"
   ]
  },
  {
   "cell_type": "code",
   "execution_count": 61,
   "metadata": {
    "collapsed": true
   },
   "outputs": [],
   "source": [
    "# This is the evaluation function. It takes a starting string, the len of the prediction in characters and \n",
    "# how sure the net is about the characters it predicts. If to low the net will predict quite boring text and if to high\n",
    "# the output will make no sense\n",
    "\n",
    "def evaluate(decoder, prime_str='A', predict_len=100, temperature=0.8):\n",
    "    hidden = decoder.init_hidden()\n",
    "    prime_input = char_tensor(prime_str)\n",
    "    predicted = prime_str\n",
    "\n",
    "    # Use priming string to \"build up\" hidden state\n",
    "    for p in range(len(prime_str) - 1):\n",
    "        _, hidden = decoder(prime_input[p], hidden)\n",
    "    inp = prime_input[-1]\n",
    "    \n",
    "    for p in range(predict_len):\n",
    "        output, hidden = decoder(inp, hidden)\n",
    "        \n",
    "        # Sample from the network as a multinomial distribution\n",
    "        output_dist = output.data.view(-1).div(temperature).exp()\n",
    "        top_i = torch.multinomial(output_dist, 1)[0]\n",
    "        \n",
    "        # Add predicted character to string and use as next input\n",
    "        predicted_char = dictionary.idx2char[top_i]\n",
    "        predicted += predicted_char\n",
    "        inp = char_tensor(predicted_char)\n",
    "\n",
    "    return predicted"
   ]
  },
  {
   "cell_type": "code",
   "execution_count": 49,
   "metadata": {
    "collapsed": true
   },
   "outputs": [],
   "source": [
    "import time, math\n",
    "\n",
    "# function to use during printing the training process\n",
    "def time_since(since):\n",
    "    s = time.time() - since\n",
    "    m = math.floor(s / 60)\n",
    "    s -= m * 60\n",
    "    return '%dm %ds' % (m, s)"
   ]
  },
  {
   "cell_type": "code",
   "execution_count": 55,
   "metadata": {
    "collapsed": true
   },
   "outputs": [],
   "source": [
    "# the train function for one step, decoder is the rnn, critereon the loss and decoder_optimizer the optimizer\n",
    "def train(inp, target, decoder, criterion, decoder_optimizer):\n",
    "    hidden = decoder.init_hidden() # inits the staring hidden state\n",
    "    decoder.zero_grad() # zero grad the model\n",
    "    loss = 0\n",
    "\n",
    "    for c in range(chunk_len):\n",
    "        output, hidden = decoder(inp[c], hidden) # predict the next character\n",
    "        loss += criterion(output, target[c].view(1)) # add to our loss the loss from this char\n",
    "\n",
    "    # update the net\n",
    "    loss.backward()\n",
    "    decoder_optimizer.step()\n",
    "\n",
    "    return loss.data[0] / chunk_len # return the average character loss"
   ]
  },
  {
   "cell_type": "markdown",
   "metadata": {},
   "source": [
    "## GETTING TO THE FUN STUFF!!\n",
    "Here we will train our model and explore it"
   ]
  },
  {
   "cell_type": "code",
   "execution_count": 75,
   "metadata": {},
   "outputs": [
    {
     "name": "stderr",
     "output_type": "stream",
     "text": [
      "/Users/peerrheinboldt/anaconda/lib/python3.6/site-packages/ipykernel_launcher.py:15: UserWarning: invalid index of a 0-dim tensor. This will be an error in PyTorch 0.5. Use tensor.item() to convert a 0-dim tensor to a Python number\n",
      "  from ipykernel import kernelapp as app\n"
     ]
    },
    {
     "name": "stdout",
     "output_type": "stream",
     "text": [
      "[0m 26s (100 2%) 2.3622]\n",
      "Whe simee row wofhe tre mepf the loven'll to't atp mind storl no to they thin's to ghothin't on teren  \n",
      "\n",
      "[0m 55s (200 5%) 2.3449]\n",
      "Wheng fut yo ored I sound I get treop the done let fout ont sme\n",
      "I bout fe gean tory to it fut wifl me  \n",
      "\n",
      "[1m 22s (300 7%) 1.9452]\n",
      "Wh I he we lotinct ain' fungs and (rout a the be a\n",
      "When your thary my my mo be Oout on all the I mor i \n",
      "\n"
     ]
    },
    {
     "ename": "IndexError",
     "evalue": "index 199 is out of bounds for dimension 0 with size 199",
     "output_type": "error",
     "traceback": [
      "\u001b[0;31m---------------------------------------------------------------------------\u001b[0m",
      "\u001b[0;31mIndexError\u001b[0m                                Traceback (most recent call last)",
      "\u001b[0;32m<ipython-input-75-1b4deb5ca0fd>\u001b[0m in \u001b[0;36m<module>\u001b[0;34m()\u001b[0m\n\u001b[1;32m     18\u001b[0m \u001b[0;34m\u001b[0m\u001b[0m\n\u001b[1;32m     19\u001b[0m \u001b[0;32mfor\u001b[0m \u001b[0mepoch\u001b[0m \u001b[0;32min\u001b[0m \u001b[0mrange\u001b[0m\u001b[0;34m(\u001b[0m\u001b[0;36m1\u001b[0m\u001b[0;34m,\u001b[0m \u001b[0mn_epochs\u001b[0m \u001b[0;34m+\u001b[0m \u001b[0;36m1\u001b[0m\u001b[0;34m)\u001b[0m\u001b[0;34m:\u001b[0m\u001b[0;34m\u001b[0m\u001b[0m\n\u001b[0;32m---> 20\u001b[0;31m     \u001b[0mthis_loss\u001b[0m \u001b[0;34m=\u001b[0m \u001b[0mtrain\u001b[0m\u001b[0;34m(\u001b[0m\u001b[0;34m*\u001b[0m\u001b[0mrandom_training_set\u001b[0m\u001b[0;34m(\u001b[0m\u001b[0;34m)\u001b[0m\u001b[0;34m,\u001b[0m \u001b[0mrnn\u001b[0m\u001b[0;34m,\u001b[0m \u001b[0mloss\u001b[0m\u001b[0;34m,\u001b[0m \u001b[0mrnn_optimizer\u001b[0m\u001b[0;34m)\u001b[0m\u001b[0;34m\u001b[0m\u001b[0m\n\u001b[0m\u001b[1;32m     21\u001b[0m     \u001b[0mloss_avg\u001b[0m \u001b[0;34m+=\u001b[0m \u001b[0mthis_loss\u001b[0m\u001b[0;34m\u001b[0m\u001b[0m\n\u001b[1;32m     22\u001b[0m \u001b[0;34m\u001b[0m\u001b[0m\n",
      "\u001b[0;32m<ipython-input-55-65a6c9acf14f>\u001b[0m in \u001b[0;36mtrain\u001b[0;34m(inp, target, decoder, criterion, decoder_optimizer)\u001b[0m\n\u001b[1;32m      6\u001b[0m \u001b[0;34m\u001b[0m\u001b[0m\n\u001b[1;32m      7\u001b[0m     \u001b[0;32mfor\u001b[0m \u001b[0mc\u001b[0m \u001b[0;32min\u001b[0m \u001b[0mrange\u001b[0m\u001b[0;34m(\u001b[0m\u001b[0mchunk_len\u001b[0m\u001b[0;34m)\u001b[0m\u001b[0;34m:\u001b[0m\u001b[0;34m\u001b[0m\u001b[0m\n\u001b[0;32m----> 8\u001b[0;31m         \u001b[0moutput\u001b[0m\u001b[0;34m,\u001b[0m \u001b[0mhidden\u001b[0m \u001b[0;34m=\u001b[0m \u001b[0mdecoder\u001b[0m\u001b[0;34m(\u001b[0m\u001b[0minp\u001b[0m\u001b[0;34m[\u001b[0m\u001b[0mc\u001b[0m\u001b[0;34m]\u001b[0m\u001b[0;34m,\u001b[0m \u001b[0mhidden\u001b[0m\u001b[0;34m)\u001b[0m \u001b[0;31m# predict the next character\u001b[0m\u001b[0;34m\u001b[0m\u001b[0m\n\u001b[0m\u001b[1;32m      9\u001b[0m         \u001b[0mloss\u001b[0m \u001b[0;34m+=\u001b[0m \u001b[0mcriterion\u001b[0m\u001b[0;34m(\u001b[0m\u001b[0moutput\u001b[0m\u001b[0;34m,\u001b[0m \u001b[0mtarget\u001b[0m\u001b[0;34m[\u001b[0m\u001b[0mc\u001b[0m\u001b[0;34m]\u001b[0m\u001b[0;34m.\u001b[0m\u001b[0mview\u001b[0m\u001b[0;34m(\u001b[0m\u001b[0;36m1\u001b[0m\u001b[0;34m)\u001b[0m\u001b[0;34m)\u001b[0m \u001b[0;31m# add to our loss the loss from this char\u001b[0m\u001b[0;34m\u001b[0m\u001b[0m\n\u001b[1;32m     10\u001b[0m \u001b[0;34m\u001b[0m\u001b[0m\n",
      "\u001b[0;31mIndexError\u001b[0m: index 199 is out of bounds for dimension 0 with size 199"
     ]
    }
   ],
   "source": [
    "# If you train a little longer the model will perform even better\n",
    "n_epochs = 4000\n",
    "print_every = 100\n",
    "plot_every = 10\n",
    "hidden_size = 100 # the hidden layer size of the RNN\n",
    "n_layers = 1 # teh number of layers in LSTM\n",
    "lr = 0.007\n",
    "model_name = \"lstm_1000\"\n",
    "\n",
    "rnn = RNN(len(dictionary), hidden_size, len(dictionary), n_layers) # Our model with the amount of characters in our \n",
    "                                                                   # dict as input and output\n",
    "rnn_optimizer = torch.optim.Adam(rnn.parameters(), lr=lr) # Our optimizer will be Adam\n",
    "loss = nn.CrossEntropyLoss() # As our Loss we will be using CrossEntropyLoss\n",
    "\n",
    "start = time.time()\n",
    "all_losses = []\n",
    "loss_avg = 0\n",
    "\n",
    "for epoch in range(1, n_epochs + 1):\n",
    "    this_loss = train(*random_training_set(), rnn, loss, rnn_optimizer)\n",
    "    loss_avg += this_loss\n",
    "\n",
    "    if epoch % print_every == 0:\n",
    "        print('[%s (%d %d%%) %.4f]' % (time_since(start), epoch, epoch / n_epochs * 100, this_loss))\n",
    "        print(evaluate(rnn, 'Wh', 100), '\\n')\n",
    "\n",
    "    if epoch % plot_every == 0:\n",
    "        all_losses.append(loss_avg / plot_every)\n",
    "        loss_avg = 0"
   ]
  },
  {
   "cell_type": "code",
   "execution_count": 65,
   "metadata": {},
   "outputs": [
    {
     "data": {
      "text/plain": [
       "[<matplotlib.lines.Line2D at 0x10f324940>]"
      ]
     },
     "execution_count": 65,
     "metadata": {},
     "output_type": "execute_result"
    },
    {
     "data": {
      "image/png": "[encoded data removed]",
      "text/plain": [
       "<matplotlib.figure.Figure at 0x1117ed668>"
      ]
     },
     "metadata": {},
     "output_type": "display_data"
    }
   ],
   "source": [
    "# Plot the history of losses, to visualize Training\n",
    "import matplotlib.pyplot as plt\n",
    "import matplotlib.ticker as ticker\n",
    "%matplotlib inline\n",
    "\n",
    "plt.figure()\n",
    "plt.plot(all_losses)"
   ]
  },
  {
   "cell_type": "code",
   "execution_count": 66,
   "metadata": {},
   "outputs": [
    {
     "name": "stderr",
     "output_type": "stream",
     "text": [
      "/Users/peerrheinboldt/anaconda/lib/python3.6/site-packages/torch/serialization.py:241: UserWarning: Couldn't retrieve source code for container of type RNN. It won't be checked for correctness upon loading.\n",
      "  \"type \" + obj.__name__ + \". It won't be checked \"\n"
     ]
    }
   ],
   "source": [
    "# saving the model, you need to make folder saved_models\n",
    "torch.save(rnn, \"saved_models/{}.pt\".format(model_name))"
   ]
  },
  {
   "cell_type": "markdown",
   "metadata": {},
   "source": [
    "# Now is your Turn\n",
    "### You can now play around with hyperparameters and generate text"
   ]
  },
  {
   "cell_type": "code",
   "execution_count": 67,
   "metadata": {},
   "outputs": [
    {
     "name": "stdout",
     "output_type": "stream",
     "text": [
      "AI on the remix!\n",
      "No off it now the pop in time and want plack to has the cow was hearsing and the frong up in the work\n",
      "I'm up on my the grie act now, I'm so way bame how and every I'll there hood this pease the don't lookin' on this bad this the soull the bitsull the fight the back to so may to stay\n",
      "Dor the dow motesting and that the plack they him the suy vickin' like the frick\n",
      "I'm don't canit\n",
      "You they my trike drion then with want down\n",
      "I'm to in this you like the how you know you somesting not the bad they I know)\n",
      "So be want the know his this the gong the shit the bay off dight, the get this as the he may with ass readger with the bittin' to heall the bet you bitting off too\n",
      "And I seed mebesting a reack frise a caused my bet my this you know and out and niggas the know love in that time the deed to reaght\n",
      "And the comy reabeficting that this want it to shoy pay pown, the like you frount Make all the pack a gland my the want\n",
      "I want they and the me\n",
      "You'd make to be not it like my me\n",
      "I'd that this on th\n"
     ]
    }
   ],
   "source": [
    "print(evaluate(rnn, \"AI on the remix!\", 1000, 0.6))"
   ]
  },
  {
   "cell_type": "code",
   "execution_count": null,
   "metadata": {
    "collapsed": true
   },
   "outputs": [],
   "source": []
  }
 ],
 "metadata": {
  "kernelspec": {
   "display_name": "Python 3",
   "language": "python",
   "name": "python3"
  },
  "language_info": {
   "codemirror_mode": {
    "name": "ipython",
    "version": 3
   },
   "file_extension": ".py",
   "mimetype": "text/x-python",
   "name": "python",
   "nbconvert_exporter": "python",
   "pygments_lexer": "ipython3",
   "version": "3.6.3"
  }
 },
 "nbformat": 4,
 "nbformat_minor": 2
}
